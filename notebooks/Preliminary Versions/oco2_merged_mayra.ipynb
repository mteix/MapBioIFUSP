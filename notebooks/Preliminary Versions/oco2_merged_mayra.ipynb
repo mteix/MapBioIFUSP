{
  "cells": [
    {
      "cell_type": "code",
      "execution_count": 7,
      "metadata": {
        "id": "H8dY7lHmWpV7"
      },
      "outputs": [],
      "source": [
        "import xarray as xr\n",
        "# import rioxarray as rio\n",
        "import geopandas as gpd\n",
        "import pandas as pd\n",
        "import numpy as np\n",
        "import matplotlib.pyplot as plt\n",
        "from shapely.geometry import Polygon, Point, MultiPolygon\n",
        "import shapely.wkt\n",
        "\n"
      ]
    },
    {
      "cell_type": "code",
      "execution_count": 8,
      "metadata": {
        "id": "L-9cd9MBU-p3"
      },
      "outputs": [],
      "source": [
        "# # importando api earth engine\n",
        "# import ee/home/mapbiomasar/Mayra/OCO2_L4/OCO2_L4/OCO2GriddedXCO2_20180709_v2_1605313492.nc\n",
        "# # autorização com login \n",
        "# ee.Authenticate()\n",
        "# # iniciando a biblioteca\n",
        "# ee.Initialize()"
      ]
    },
    {
      "cell_type": "code",
      "execution_count": 9,
      "metadata": {
        "colab": {
          "base_uri": "https://localhost:8080/",
          "height": 533
        },
        "id": "HNIsZGxEWpV_",
        "outputId": "fa529fc3-6aa6-4e78-fd4d-3b39d6e08612"
      },
      "outputs": [],
      "source": [
        "\n",
        "# shortcut to clean the crap \n",
        "\n",
        "file_name = '/home/mapbiomasar/Mayra/CO2_MERGED_OBS4MIPS/catbag.nc'\n",
        "nc_file = xr.open_dataset(file_name)\n",
        "xco2 = nc_file[[\n",
        "    'xco2', 'time'\n",
        "]]\n",
        "xco2 = xco2.to_dataframe()\n",
        "xco2 = xco2.dropna()\n",
        "xco2 = xco2.reset_index()\n",
        "xco2 = xco2[['time','lat','lon','xco2']]\n",
        "# xco2"
      ]
    },
    {
      "cell_type": "code",
      "execution_count": 10,
      "metadata": {
        "colab": {
          "base_uri": "https://localhost:8080/"
        },
        "id": "LydcHU46WpWB",
        "outputId": "e3ba07f0-b8a9-4c54-8fad-60f761cc5f4c"
      },
      "outputs": [
        {
          "name": "stderr",
          "output_type": "stream",
          "text": [
            "/home/mapbiomasar/miniconda3/envs/geoproc/lib/python3.9/site-packages/pyproj/crs/crs.py:130: FutureWarning: '+init=<authority>:<code>' syntax is deprecated. '<authority>:<code>' is the preferred initialization method. When making the change, be mindful of axis order changes: https://pyproj4.github.io/pyproj/stable/gotchas.html#axis-order-changes-in-proj-6\n",
            "  in_crs_string = _prepare_from_proj_string(in_crs_string)\n"
          ]
        },
        {
          "data": {
            "text/html": [
              "<div>\n",
              "<style scoped>\n",
              "    .dataframe tbody tr th:only-of-type {\n",
              "        vertical-align: middle;\n",
              "    }\n",
              "\n",
              "    .dataframe tbody tr th {\n",
              "        vertical-align: top;\n",
              "    }\n",
              "\n",
              "    .dataframe thead th {\n",
              "        text-align: right;\n",
              "    }\n",
              "</style>\n",
              "<table border=\"1\" class=\"dataframe\">\n",
              "  <thead>\n",
              "    <tr style=\"text-align: right;\">\n",
              "      <th></th>\n",
              "      <th>time</th>\n",
              "      <th>lat</th>\n",
              "      <th>lon</th>\n",
              "      <th>xco2</th>\n",
              "      <th>geometry</th>\n",
              "    </tr>\n",
              "  </thead>\n",
              "  <tbody>\n",
              "    <tr>\n",
              "      <th>0</th>\n",
              "      <td>2003-01-16 12:00:00</td>\n",
              "      <td>-47.5</td>\n",
              "      <td>167.5</td>\n",
              "      <td>0.000373</td>\n",
              "      <td>POINT (167.50000 -47.50000)</td>\n",
              "    </tr>\n",
              "    <tr>\n",
              "      <th>1</th>\n",
              "      <td>2003-01-16 12:00:00</td>\n",
              "      <td>-42.5</td>\n",
              "      <td>-67.5</td>\n",
              "      <td>0.000374</td>\n",
              "      <td>POINT (-67.50000 -42.50000)</td>\n",
              "    </tr>\n",
              "    <tr>\n",
              "      <th>2</th>\n",
              "      <td>2003-01-16 12:00:00</td>\n",
              "      <td>-42.5</td>\n",
              "      <td>172.5</td>\n",
              "      <td>0.000371</td>\n",
              "      <td>POINT (172.50000 -42.50000)</td>\n",
              "    </tr>\n",
              "    <tr>\n",
              "      <th>3</th>\n",
              "      <td>2003-01-16 12:00:00</td>\n",
              "      <td>-37.5</td>\n",
              "      <td>-72.5</td>\n",
              "      <td>0.000375</td>\n",
              "      <td>POINT (-72.50000 -37.50000)</td>\n",
              "    </tr>\n",
              "    <tr>\n",
              "      <th>4</th>\n",
              "      <td>2003-01-16 12:00:00</td>\n",
              "      <td>-37.5</td>\n",
              "      <td>-67.5</td>\n",
              "      <td>0.000373</td>\n",
              "      <td>POINT (-67.50000 -37.50000)</td>\n",
              "    </tr>\n",
              "    <tr>\n",
              "      <th>...</th>\n",
              "      <td>...</td>\n",
              "      <td>...</td>\n",
              "      <td>...</td>\n",
              "      <td>...</td>\n",
              "      <td>...</td>\n",
              "    </tr>\n",
              "    <tr>\n",
              "      <th>121861</th>\n",
              "      <td>2020-06-16 00:00:00</td>\n",
              "      <td>72.5</td>\n",
              "      <td>152.5</td>\n",
              "      <td>0.000409</td>\n",
              "      <td>POINT (152.50000 72.50000)</td>\n",
              "    </tr>\n",
              "    <tr>\n",
              "      <th>121862</th>\n",
              "      <td>2020-06-16 00:00:00</td>\n",
              "      <td>77.5</td>\n",
              "      <td>-87.5</td>\n",
              "      <td>0.000411</td>\n",
              "      <td>POINT (-87.50000 77.50000)</td>\n",
              "    </tr>\n",
              "    <tr>\n",
              "      <th>121863</th>\n",
              "      <td>2020-06-16 00:00:00</td>\n",
              "      <td>77.5</td>\n",
              "      <td>142.5</td>\n",
              "      <td>0.000407</td>\n",
              "      <td>POINT (142.50000 77.50000)</td>\n",
              "    </tr>\n",
              "    <tr>\n",
              "      <th>121864</th>\n",
              "      <td>2020-06-16 00:00:00</td>\n",
              "      <td>82.5</td>\n",
              "      <td>-87.5</td>\n",
              "      <td>0.000412</td>\n",
              "      <td>POINT (-87.50000 82.50000)</td>\n",
              "    </tr>\n",
              "    <tr>\n",
              "      <th>121865</th>\n",
              "      <td>2020-06-16 00:00:00</td>\n",
              "      <td>82.5</td>\n",
              "      <td>-82.5</td>\n",
              "      <td>0.000410</td>\n",
              "      <td>POINT (-82.50000 82.50000)</td>\n",
              "    </tr>\n",
              "  </tbody>\n",
              "</table>\n",
              "<p>121866 rows × 5 columns</p>\n",
              "</div>"
            ],
            "text/plain": [
              "                      time   lat    lon      xco2                     geometry\n",
              "0      2003-01-16 12:00:00 -47.5  167.5  0.000373  POINT (167.50000 -47.50000)\n",
              "1      2003-01-16 12:00:00 -42.5  -67.5  0.000374  POINT (-67.50000 -42.50000)\n",
              "2      2003-01-16 12:00:00 -42.5  172.5  0.000371  POINT (172.50000 -42.50000)\n",
              "3      2003-01-16 12:00:00 -37.5  -72.5  0.000375  POINT (-72.50000 -37.50000)\n",
              "4      2003-01-16 12:00:00 -37.5  -67.5  0.000373  POINT (-67.50000 -37.50000)\n",
              "...                    ...   ...    ...       ...                          ...\n",
              "121861 2020-06-16 00:00:00  72.5  152.5  0.000409   POINT (152.50000 72.50000)\n",
              "121862 2020-06-16 00:00:00  77.5  -87.5  0.000411   POINT (-87.50000 77.50000)\n",
              "121863 2020-06-16 00:00:00  77.5  142.5  0.000407   POINT (142.50000 77.50000)\n",
              "121864 2020-06-16 00:00:00  82.5  -87.5  0.000412   POINT (-87.50000 82.50000)\n",
              "121865 2020-06-16 00:00:00  82.5  -82.5  0.000410   POINT (-82.50000 82.50000)\n",
              "\n",
              "[121866 rows x 5 columns]"
            ]
          },
          "execution_count": 10,
          "metadata": {},
          "output_type": "execute_result"
        }
      ],
      "source": [
        "\n",
        "crs = {'init':'EPSG:4326'}\n",
        "geometry = [Point(xy) for xy in zip(xco2['lon'], xco2['lat'])]\n",
        "\n",
        "points = gpd.GeoDataFrame(xco2, \n",
        "                          crs = crs, \n",
        "                          geometry = geometry)\n",
        "\n",
        "points\n"
      ]
    },
    {
      "cell_type": "code",
      "execution_count": 11,
      "metadata": {},
      "outputs": [],
      "source": [
        "# filter lat and long\n",
        "\n",
        "# to avoid excessive processing to shapefiles we define a box\n",
        "# covering South America\n",
        "\n",
        "\n",
        "min_lat = -57.5858\n",
        "max_lat =  15.5988\n",
        "min_lon = -85.8360\n",
        "max_lon = -35.8750\n",
        "\n",
        "# back to original nomenclature\n",
        "tmp = points.copy()\n",
        "\n",
        "lat_filter = (tmp[\"lat\"] >= min_lat) & (tmp[\"lat\"] <= max_lat)\n",
        "lon_filter = (tmp[\"lon\"] >= min_lon) & (tmp[\"lon\"] <= max_lon)\n",
        "\n",
        "# tmp = tmp.loc[lat_filter & lon_filter]\n",
        "\n",
        "points = tmp[lat_filter & lon_filter]"
      ]
    },
    {
      "cell_type": "code",
      "execution_count": 12,
      "metadata": {},
      "outputs": [],
      "source": [
        "# # a small subset for testing\n",
        "\n",
        "# points = points[0:1000]"
      ]
    },
    {
      "cell_type": "code",
      "execution_count": 13,
      "metadata": {
        "colab": {
          "base_uri": "https://localhost:8080/",
          "height": 529
        },
        "id": "W4-SLPPtKX76",
        "outputId": "21bf3086-9372-4870-8baa-c198f71615a0"
      },
      "outputs": [
        {
          "name": "stderr",
          "output_type": "stream",
          "text": [
            "/tmp/ipykernel_173447/641316333.py:1: UserWarning: Geometry is in a geographic CRS. Results from 'buffer' are likely incorrect. Use 'GeoSeries.to_crs()' to re-project geometries to a projected CRS before this operation.\n",
            "\n",
            "  buffers = points.buffer(2.5) #originally 0.5; is that degrees???\n"
          ]
        }
      ],
      "source": [
        "\n",
        "buffers = points.buffer(2.5) #originally 0.5; is that degrees???\n",
        "bounds = buffers.bounds\n",
        "\n",
        "bounds['pixel_area'] = bounds.apply(\n",
        "  lambda obj: Polygon(shell=[\n",
        "    Point(obj['maxx'],obj['miny']),\n",
        "    Point(obj['minx'],obj['miny']),\n",
        "    Point(obj['minx'],obj['maxy']),\n",
        "    Point(obj['maxx'],obj['maxy']),\n",
        "    Point(obj['maxx'],obj['miny']),\n",
        "  ]),\n",
        "  axis=1\n",
        ")\n",
        "\n",
        "# adding indexes to merge dataframes\n",
        "points.insert(0, 'New_ID', range(1, 1 + len(points)))\n",
        "bounds.insert(0, 'New_ID', range(1, 1 + len(bounds)))\n",
        "\n",
        "my_merge = bounds.merge(points, on='New_ID')\n"
      ]
    },
    {
      "cell_type": "code",
      "execution_count": 14,
      "metadata": {},
      "outputs": [],
      "source": [
        "# my_merge"
      ]
    },
    {
      "cell_type": "code",
      "execution_count": 15,
      "metadata": {},
      "outputs": [
        {
          "name": "stderr",
          "output_type": "stream",
          "text": [
            "/home/mapbiomasar/miniconda3/envs/geoproc/lib/python3.9/site-packages/pyproj/crs/crs.py:130: FutureWarning: '+init=<authority>:<code>' syntax is deprecated. '<authority>:<code>' is the preferred initialization method. When making the change, be mindful of axis order changes: https://pyproj4.github.io/pyproj/stable/gotchas.html#axis-order-changes-in-proj-6\n",
            "  in_crs_string = _prepare_from_proj_string(in_crs_string)\n"
          ]
        },
        {
          "data": {
            "text/html": [
              "<div>\n",
              "<style scoped>\n",
              "    .dataframe tbody tr th:only-of-type {\n",
              "        vertical-align: middle;\n",
              "    }\n",
              "\n",
              "    .dataframe tbody tr th {\n",
              "        vertical-align: top;\n",
              "    }\n",
              "\n",
              "    .dataframe thead th {\n",
              "        text-align: right;\n",
              "    }\n",
              "</style>\n",
              "<table border=\"1\" class=\"dataframe\">\n",
              "  <thead>\n",
              "    <tr style=\"text-align: right;\">\n",
              "      <th></th>\n",
              "      <th>xco2</th>\n",
              "      <th>geometry</th>\n",
              "    </tr>\n",
              "  </thead>\n",
              "  <tbody>\n",
              "    <tr>\n",
              "      <th>0</th>\n",
              "      <td>0.000374</td>\n",
              "      <td>POLYGON ((-65.00000 -45.00000, -70.00000 -45.0...</td>\n",
              "    </tr>\n",
              "    <tr>\n",
              "      <th>1</th>\n",
              "      <td>0.000375</td>\n",
              "      <td>POLYGON ((-70.00000 -40.00000, -75.00000 -40.0...</td>\n",
              "    </tr>\n",
              "    <tr>\n",
              "      <th>2</th>\n",
              "      <td>0.000373</td>\n",
              "      <td>POLYGON ((-65.00000 -40.00000, -70.00000 -40.0...</td>\n",
              "    </tr>\n",
              "    <tr>\n",
              "      <th>3</th>\n",
              "      <td>0.000374</td>\n",
              "      <td>POLYGON ((-60.00000 -40.00000, -65.00000 -40.0...</td>\n",
              "    </tr>\n",
              "    <tr>\n",
              "      <th>4</th>\n",
              "      <td>0.000375</td>\n",
              "      <td>POLYGON ((-55.00000 -40.00000, -60.00000 -40.0...</td>\n",
              "    </tr>\n",
              "    <tr>\n",
              "      <th>...</th>\n",
              "      <td>...</td>\n",
              "      <td>...</td>\n",
              "    </tr>\n",
              "    <tr>\n",
              "      <th>11270</th>\n",
              "      <td>0.000415</td>\n",
              "      <td>POLYGON ((-40.00000 5.00000, -45.00000 5.00000...</td>\n",
              "    </tr>\n",
              "    <tr>\n",
              "      <th>11271</th>\n",
              "      <td>0.000414</td>\n",
              "      <td>POLYGON ((-35.00000 5.00000, -40.00000 5.00000...</td>\n",
              "    </tr>\n",
              "    <tr>\n",
              "      <th>11272</th>\n",
              "      <td>0.000415</td>\n",
              "      <td>POLYGON ((-45.00000 10.00000, -50.00000 10.000...</td>\n",
              "    </tr>\n",
              "    <tr>\n",
              "      <th>11273</th>\n",
              "      <td>0.000416</td>\n",
              "      <td>POLYGON ((-40.00000 10.00000, -45.00000 10.000...</td>\n",
              "    </tr>\n",
              "    <tr>\n",
              "      <th>11274</th>\n",
              "      <td>0.000414</td>\n",
              "      <td>POLYGON ((-35.00000 10.00000, -40.00000 10.000...</td>\n",
              "    </tr>\n",
              "  </tbody>\n",
              "</table>\n",
              "<p>11275 rows × 2 columns</p>\n",
              "</div>"
            ],
            "text/plain": [
              "           xco2                                           geometry\n",
              "0      0.000374  POLYGON ((-65.00000 -45.00000, -70.00000 -45.0...\n",
              "1      0.000375  POLYGON ((-70.00000 -40.00000, -75.00000 -40.0...\n",
              "2      0.000373  POLYGON ((-65.00000 -40.00000, -70.00000 -40.0...\n",
              "3      0.000374  POLYGON ((-60.00000 -40.00000, -65.00000 -40.0...\n",
              "4      0.000375  POLYGON ((-55.00000 -40.00000, -60.00000 -40.0...\n",
              "...         ...                                                ...\n",
              "11270  0.000415  POLYGON ((-40.00000 5.00000, -45.00000 5.00000...\n",
              "11271  0.000414  POLYGON ((-35.00000 5.00000, -40.00000 5.00000...\n",
              "11272  0.000415  POLYGON ((-45.00000 10.00000, -50.00000 10.000...\n",
              "11273  0.000416  POLYGON ((-40.00000 10.00000, -45.00000 10.000...\n",
              "11274  0.000414  POLYGON ((-35.00000 10.00000, -40.00000 10.000...\n",
              "\n",
              "[11275 rows x 2 columns]"
            ]
          },
          "execution_count": 15,
          "metadata": {},
          "output_type": "execute_result"
        }
      ],
      "source": [
        "# new geopandas with the variables of interest\n",
        "gdf = my_merge.copy()\n",
        "gdf = gpd.GeoDataFrame(\n",
        "  gdf,\n",
        "  crs = crs, \n",
        "  geometry = [a for a in gdf['pixel_area']]                               \n",
        "  )\n",
        "gdf = gdf.reset_index()\n",
        "gdf = gdf.loc[:,gdf.columns.isin(['xco2', 'geometry'])]\n",
        "\n",
        "# print('--> TYPE: ',type(gdf))\n",
        "gdf\n"
      ]
    },
    {
      "cell_type": "code",
      "execution_count": 16,
      "metadata": {
        "colab": {
          "base_uri": "https://localhost:8080/",
          "height": 462
        },
        "id": "1mipzd5aWpWC",
        "outputId": "ad4a837c-76ad-4d5e-98cc-b3ca1418975c"
      },
      "outputs": [
        {
          "name": "stderr",
          "output_type": "stream",
          "text": [
            "/home/mapbiomasar/miniconda3/envs/geoproc/lib/python3.9/site-packages/pyproj/crs/crs.py:130: FutureWarning: '+init=<authority>:<code>' syntax is deprecated. '<authority>:<code>' is the preferred initialization method. When making the change, be mindful of axis order changes: https://pyproj4.github.io/pyproj/stable/gotchas.html#axis-order-changes-in-proj-6\n",
            "  in_crs_string = _prepare_from_proj_string(in_crs_string)\n"
          ]
        },
        {
          "data": {
            "text/plain": [
              "Text(0.5, 1.0, 'xco2 from Mayra')"
            ]
          },
          "execution_count": 16,
          "metadata": {},
          "output_type": "execute_result"
        },
        {
          "data": {
            "image/png": "[encoded data removed]",
            "text/plain": [
              "<Figure size 1296x504 with 2 Axes>"
            ]
          },
          "metadata": {
            "needs_background": "light"
          },
          "output_type": "display_data"
        }
      ],
      "source": [
        "# testing the view\n",
        "\n",
        "world = gpd.read_file(gpd.datasets.get_path('naturalearth_lowres'))\n",
        "\n",
        "fig, ax = plt.subplots(figsize=(18, 7))\n",
        "\n",
        "\n",
        "# ax.set_xlim(178.0, 181.0)\n",
        "# ax.set_ylim(20.0, 23.0)\n",
        "world.plot(ax=ax, alpha=0.4, color='grey')\n",
        "\n",
        "gpd.GeoDataFrame(\n",
        "  my_merge,\n",
        "  crs = crs, \n",
        "  geometry = [a for a in my_merge['pixel_area']]                                \n",
        "  ).plot(column='xco2', ax=ax, legend=True,alpha = 0.4)\n",
        "\n",
        "# gpd.GeoDataFrame(\n",
        "#   points,\n",
        "#   crs = crs, \n",
        "#   geometry = [a for a in points['geometry']]                                \n",
        "#   ).plot(column='xco2', ax=ax)\n",
        "\n",
        "\n",
        "\n",
        "plt.title('xco2 from Mayra')\n"
      ]
    },
    {
      "cell_type": "code",
      "execution_count": 17,
      "metadata": {
        "colab": {
          "base_uri": "https://localhost:8080/",
          "height": 442
        },
        "id": "91K4hIs-WpWJ",
        "outputId": "428910fa-1081-4310-818c-0360264aaacf"
      },
      "outputs": [
        {
          "name": "stdout",
          "output_type": "stream",
          "text": [
            "--> TYPE:  <class 'geopandas.geodataframe.GeoDataFrame'>\n"
          ]
        },
        {
          "name": "stderr",
          "output_type": "stream",
          "text": [
            "/home/mapbiomasar/miniconda3/envs/geoproc/lib/python3.9/site-packages/pyproj/crs/crs.py:130: FutureWarning: '+init=<authority>:<code>' syntax is deprecated. '<authority>:<code>' is the preferred initialization method. When making the change, be mindful of axis order changes: https://pyproj4.github.io/pyproj/stable/gotchas.html#axis-order-changes-in-proj-6\n",
            "  in_crs_string = _prepare_from_proj_string(in_crs_string)\n"
          ]
        },
        {
          "data": {
            "text/html": [
              "<div>\n",
              "<style scoped>\n",
              "    .dataframe tbody tr th:only-of-type {\n",
              "        vertical-align: middle;\n",
              "    }\n",
              "\n",
              "    .dataframe tbody tr th {\n",
              "        vertical-align: top;\n",
              "    }\n",
              "\n",
              "    .dataframe thead th {\n",
              "        text-align: right;\n",
              "    }\n",
              "</style>\n",
              "<table border=\"1\" class=\"dataframe\">\n",
              "  <thead>\n",
              "    <tr style=\"text-align: right;\">\n",
              "      <th></th>\n",
              "      <th>xco2</th>\n",
              "      <th>geometry</th>\n",
              "    </tr>\n",
              "  </thead>\n",
              "  <tbody>\n",
              "    <tr>\n",
              "      <th>0</th>\n",
              "      <td>0.000374</td>\n",
              "      <td>POLYGON ((-65.00000 -45.00000, -70.00000 -45.0...</td>\n",
              "    </tr>\n",
              "    <tr>\n",
              "      <th>1</th>\n",
              "      <td>0.000375</td>\n",
              "      <td>POLYGON ((-70.00000 -40.00000, -75.00000 -40.0...</td>\n",
              "    </tr>\n",
              "    <tr>\n",
              "      <th>2</th>\n",
              "      <td>0.000373</td>\n",
              "      <td>POLYGON ((-65.00000 -40.00000, -70.00000 -40.0...</td>\n",
              "    </tr>\n",
              "    <tr>\n",
              "      <th>3</th>\n",
              "      <td>0.000374</td>\n",
              "      <td>POLYGON ((-60.00000 -40.00000, -65.00000 -40.0...</td>\n",
              "    </tr>\n",
              "    <tr>\n",
              "      <th>4</th>\n",
              "      <td>0.000375</td>\n",
              "      <td>POLYGON ((-55.00000 -40.00000, -60.00000 -40.0...</td>\n",
              "    </tr>\n",
              "    <tr>\n",
              "      <th>...</th>\n",
              "      <td>...</td>\n",
              "      <td>...</td>\n",
              "    </tr>\n",
              "    <tr>\n",
              "      <th>11270</th>\n",
              "      <td>0.000415</td>\n",
              "      <td>POLYGON ((-40.00000 5.00000, -45.00000 5.00000...</td>\n",
              "    </tr>\n",
              "    <tr>\n",
              "      <th>11271</th>\n",
              "      <td>0.000414</td>\n",
              "      <td>POLYGON ((-35.00000 5.00000, -40.00000 5.00000...</td>\n",
              "    </tr>\n",
              "    <tr>\n",
              "      <th>11272</th>\n",
              "      <td>0.000415</td>\n",
              "      <td>POLYGON ((-45.00000 10.00000, -50.00000 10.000...</td>\n",
              "    </tr>\n",
              "    <tr>\n",
              "      <th>11273</th>\n",
              "      <td>0.000416</td>\n",
              "      <td>POLYGON ((-40.00000 10.00000, -45.00000 10.000...</td>\n",
              "    </tr>\n",
              "    <tr>\n",
              "      <th>11274</th>\n",
              "      <td>0.000414</td>\n",
              "      <td>POLYGON ((-35.00000 10.00000, -40.00000 10.000...</td>\n",
              "    </tr>\n",
              "  </tbody>\n",
              "</table>\n",
              "<p>11275 rows × 2 columns</p>\n",
              "</div>"
            ],
            "text/plain": [
              "           xco2                                           geometry\n",
              "0      0.000374  POLYGON ((-65.00000 -45.00000, -70.00000 -45.0...\n",
              "1      0.000375  POLYGON ((-70.00000 -40.00000, -75.00000 -40.0...\n",
              "2      0.000373  POLYGON ((-65.00000 -40.00000, -70.00000 -40.0...\n",
              "3      0.000374  POLYGON ((-60.00000 -40.00000, -65.00000 -40.0...\n",
              "4      0.000375  POLYGON ((-55.00000 -40.00000, -60.00000 -40.0...\n",
              "...         ...                                                ...\n",
              "11270  0.000415  POLYGON ((-40.00000 5.00000, -45.00000 5.00000...\n",
              "11271  0.000414  POLYGON ((-35.00000 5.00000, -40.00000 5.00000...\n",
              "11272  0.000415  POLYGON ((-45.00000 10.00000, -50.00000 10.000...\n",
              "11273  0.000416  POLYGON ((-40.00000 10.00000, -45.00000 10.000...\n",
              "11274  0.000414  POLYGON ((-35.00000 10.00000, -40.00000 10.000...\n",
              "\n",
              "[11275 rows x 2 columns]"
            ]
          },
          "execution_count": 17,
          "metadata": {},
          "output_type": "execute_result"
        }
      ],
      "source": [
        "\n",
        "gdf = my_merge.copy()\n",
        "gdf = gpd.GeoDataFrame(\n",
        "  gdf,\n",
        "  crs = crs, \n",
        "  geometry = [a for a in gdf['pixel_area']]                               \n",
        "  )\n",
        "gdf = gdf.reset_index()\n",
        "gdf = gdf.loc[:,gdf.columns.isin(['xco2', 'geometry'])]\n",
        "\n",
        "print('--> TYPE: ',type(gdf))\n",
        "gdf\n",
        "\n"
      ]
    },
    {
      "cell_type": "code",
      "execution_count": 96,
      "metadata": {
        "colab": {
          "base_uri": "https://localhost:8080/"
        },
        "id": "_faRdWi62NCe",
        "outputId": "bb6342b4-903b-418c-f92e-ecb15312948b"
      },
      "outputs": [
        {
          "name": "stdout",
          "output_type": "stream",
          "text": [
            "-->  <class 'geopandas.geodataframe.GeoDataFrame'>\n"
          ]
        },
        {
          "name": "stderr",
          "output_type": "stream",
          "text": [
            "/home/mapbiomasar/miniconda3/envs/geoproc/lib/python3.9/site-packages/geopandas/io/file.py:362: FutureWarning: pandas.Int64Index is deprecated and will be removed from pandas in a future version. Use pandas.Index with the appropriate dtype instead.\n",
            "  pd.Int64Index,\n"
          ]
        }
      ],
      "source": [
        "print('--> ',type(gdf))\n",
        "\n",
        "\n",
        "gdf.to_file('/home/mapbiomasar/MJT/notebooks/smallGridMerged.shp')\n"
      ]
    },
    {
      "cell_type": "code",
      "execution_count": 18,
      "metadata": {},
      "outputs": [
        {
          "data": {
            "text/plain": [
              "<module 'geopandas' from '/home/mapbiomasar/miniconda3/envs/geoproc/lib/python3.9/site-packages/geopandas/__init__.py'>"
            ]
          },
          "execution_count": 18,
          "metadata": {},
          "output_type": "execute_result"
        }
      ],
      "source": []
    },
    {
      "cell_type": "markdown",
      "metadata": {},
      "source": [
        "### Part 2: reprocessing and splitting files\n",
        "\n",
        "TODO: separar os arquivos por meses para subir ao GEE\n",
        "\n"
      ]
    },
    {
      "cell_type": "code",
      "execution_count": 22,
      "metadata": {
        "id": "kxUrgSOXigaA"
      },
      "outputs": [
        {
          "name": "stdout",
          "output_type": "stream",
          "text": [
            "11275\n"
          ]
        },
        {
          "data": {
            "text/plain": [
              "209"
            ]
          },
          "execution_count": 22,
          "metadata": {},
          "output_type": "execute_result"
        }
      ],
      "source": [
        "# summarizing table\n",
        "print(len(my_merge))\n",
        "tmp = my_merge.groupby(['time'])['xco2'].mean()\n",
        "len(tmp)"
      ]
    },
    {
      "cell_type": "code",
      "execution_count": 28,
      "metadata": {},
      "outputs": [],
      "source": [
        "df = my_merge.copy()\n",
        "\n",
        "df['Date'] = pd.to_datetime(df['time'])\n",
        "df = df.set_index(df['Date'])\n",
        "df = df.sort_index()\n",
        "df = df[['lat','lon','pixel_area','xco2']]\n",
        "\n",
        "# looping per year and month\n",
        "\n",
        "year = list(range(2003,2020))\n",
        "year"
      ]
    },
    {
      "cell_type": "code",
      "execution_count": 34,
      "metadata": {},
      "outputs": [
        {
          "data": {
            "text/plain": [
              "850"
            ]
          },
          "execution_count": 34,
          "metadata": {},
          "output_type": "execute_result"
        }
      ],
      "source": [
        "# looping per year and month\n",
        "import datetime\n",
        "\n",
        "x = datetime.datetime(2018, 9, 15)\n",
        "\n",
        "\n",
        "year = list(range(2003,2021))\n",
        "month = list(range(1,13))\n",
        "\n",
        "train = df['2015-01-10':'2016-01-20']\n",
        "\n",
        "len(train)"
      ]
    },
    {
      "cell_type": "code",
      "execution_count": 21,
      "metadata": {},
      "outputs": [
        {
          "data": {
            "text/html": [
              "<div>\n",
              "<style scoped>\n",
              "    .dataframe tbody tr th:only-of-type {\n",
              "        vertical-align: middle;\n",
              "    }\n",
              "\n",
              "    .dataframe tbody tr th {\n",
              "        vertical-align: top;\n",
              "    }\n",
              "\n",
              "    .dataframe thead th {\n",
              "        text-align: right;\n",
              "    }\n",
              "</style>\n",
              "<table border=\"1\" class=\"dataframe\">\n",
              "  <thead>\n",
              "    <tr style=\"text-align: right;\">\n",
              "      <th></th>\n",
              "      <th>New_ID</th>\n",
              "      <th>minx</th>\n",
              "      <th>miny</th>\n",
              "      <th>maxx</th>\n",
              "      <th>maxy</th>\n",
              "      <th>pixel_area</th>\n",
              "      <th>time</th>\n",
              "      <th>lat</th>\n",
              "      <th>lon</th>\n",
              "      <th>xco2</th>\n",
              "      <th>geometry</th>\n",
              "    </tr>\n",
              "  </thead>\n",
              "  <tbody>\n",
              "    <tr>\n",
              "      <th>0</th>\n",
              "      <td>1</td>\n",
              "      <td>-70.0</td>\n",
              "      <td>-45.0</td>\n",
              "      <td>-65.0</td>\n",
              "      <td>-40.0</td>\n",
              "      <td>POLYGON ((-65 -45, -70 -45, -70 -40, -65 -40, ...</td>\n",
              "      <td>2003-01-16 12:00:00</td>\n",
              "      <td>-42.5</td>\n",
              "      <td>-67.5</td>\n",
              "      <td>0.000374</td>\n",
              "      <td>POLYGON ((-65.00000 -45.00000, -70.00000 -45.0...</td>\n",
              "    </tr>\n",
              "    <tr>\n",
              "      <th>1</th>\n",
              "      <td>2</td>\n",
              "      <td>-75.0</td>\n",
              "      <td>-40.0</td>\n",
              "      <td>-70.0</td>\n",
              "      <td>-35.0</td>\n",
              "      <td>POLYGON ((-70 -40, -75 -40, -75 -35, -70 -35, ...</td>\n",
              "      <td>2003-01-16 12:00:00</td>\n",
              "      <td>-37.5</td>\n",
              "      <td>-72.5</td>\n",
              "      <td>0.000375</td>\n",
              "      <td>POLYGON ((-70.00000 -40.00000, -75.00000 -40.0...</td>\n",
              "    </tr>\n",
              "    <tr>\n",
              "      <th>2</th>\n",
              "      <td>3</td>\n",
              "      <td>-70.0</td>\n",
              "      <td>-40.0</td>\n",
              "      <td>-65.0</td>\n",
              "      <td>-35.0</td>\n",
              "      <td>POLYGON ((-65 -40, -70 -40, -70 -35, -65 -35, ...</td>\n",
              "      <td>2003-01-16 12:00:00</td>\n",
              "      <td>-37.5</td>\n",
              "      <td>-67.5</td>\n",
              "      <td>0.000373</td>\n",
              "      <td>POLYGON ((-65.00000 -40.00000, -70.00000 -40.0...</td>\n",
              "    </tr>\n",
              "    <tr>\n",
              "      <th>3</th>\n",
              "      <td>4</td>\n",
              "      <td>-65.0</td>\n",
              "      <td>-40.0</td>\n",
              "      <td>-60.0</td>\n",
              "      <td>-35.0</td>\n",
              "      <td>POLYGON ((-60 -40, -65 -40, -65 -35, -60 -35, ...</td>\n",
              "      <td>2003-01-16 12:00:00</td>\n",
              "      <td>-37.5</td>\n",
              "      <td>-62.5</td>\n",
              "      <td>0.000374</td>\n",
              "      <td>POLYGON ((-60.00000 -40.00000, -65.00000 -40.0...</td>\n",
              "    </tr>\n",
              "    <tr>\n",
              "      <th>4</th>\n",
              "      <td>5</td>\n",
              "      <td>-60.0</td>\n",
              "      <td>-40.0</td>\n",
              "      <td>-55.0</td>\n",
              "      <td>-35.0</td>\n",
              "      <td>POLYGON ((-55 -40, -60 -40, -60 -35, -55 -35, ...</td>\n",
              "      <td>2003-01-16 12:00:00</td>\n",
              "      <td>-37.5</td>\n",
              "      <td>-57.5</td>\n",
              "      <td>0.000375</td>\n",
              "      <td>POLYGON ((-55.00000 -40.00000, -60.00000 -40.0...</td>\n",
              "    </tr>\n",
              "    <tr>\n",
              "      <th>...</th>\n",
              "      <td>...</td>\n",
              "      <td>...</td>\n",
              "      <td>...</td>\n",
              "      <td>...</td>\n",
              "      <td>...</td>\n",
              "      <td>...</td>\n",
              "      <td>...</td>\n",
              "      <td>...</td>\n",
              "      <td>...</td>\n",
              "      <td>...</td>\n",
              "      <td>...</td>\n",
              "    </tr>\n",
              "    <tr>\n",
              "      <th>11270</th>\n",
              "      <td>11271</td>\n",
              "      <td>-45.0</td>\n",
              "      <td>5.0</td>\n",
              "      <td>-40.0</td>\n",
              "      <td>10.0</td>\n",
              "      <td>POLYGON ((-40 5, -45 5, -45 10, -40 10, -40 5))</td>\n",
              "      <td>2020-06-16 00:00:00</td>\n",
              "      <td>7.5</td>\n",
              "      <td>-42.5</td>\n",
              "      <td>0.000415</td>\n",
              "      <td>POLYGON ((-40.00000 5.00000, -45.00000 5.00000...</td>\n",
              "    </tr>\n",
              "    <tr>\n",
              "      <th>11271</th>\n",
              "      <td>11272</td>\n",
              "      <td>-40.0</td>\n",
              "      <td>5.0</td>\n",
              "      <td>-35.0</td>\n",
              "      <td>10.0</td>\n",
              "      <td>POLYGON ((-35 5, -40 5, -40 10, -35 10, -35 5))</td>\n",
              "      <td>2020-06-16 00:00:00</td>\n",
              "      <td>7.5</td>\n",
              "      <td>-37.5</td>\n",
              "      <td>0.000414</td>\n",
              "      <td>POLYGON ((-35.00000 5.00000, -40.00000 5.00000...</td>\n",
              "    </tr>\n",
              "    <tr>\n",
              "      <th>11272</th>\n",
              "      <td>11273</td>\n",
              "      <td>-50.0</td>\n",
              "      <td>10.0</td>\n",
              "      <td>-45.0</td>\n",
              "      <td>15.0</td>\n",
              "      <td>POLYGON ((-45 10, -50 10, -50 15, -45 15, -45 ...</td>\n",
              "      <td>2020-06-16 00:00:00</td>\n",
              "      <td>12.5</td>\n",
              "      <td>-47.5</td>\n",
              "      <td>0.000415</td>\n",
              "      <td>POLYGON ((-45.00000 10.00000, -50.00000 10.000...</td>\n",
              "    </tr>\n",
              "    <tr>\n",
              "      <th>11273</th>\n",
              "      <td>11274</td>\n",
              "      <td>-45.0</td>\n",
              "      <td>10.0</td>\n",
              "      <td>-40.0</td>\n",
              "      <td>15.0</td>\n",
              "      <td>POLYGON ((-40 10, -45 10, -45 15, -40 15, -40 ...</td>\n",
              "      <td>2020-06-16 00:00:00</td>\n",
              "      <td>12.5</td>\n",
              "      <td>-42.5</td>\n",
              "      <td>0.000416</td>\n",
              "      <td>POLYGON ((-40.00000 10.00000, -45.00000 10.000...</td>\n",
              "    </tr>\n",
              "    <tr>\n",
              "      <th>11274</th>\n",
              "      <td>11275</td>\n",
              "      <td>-40.0</td>\n",
              "      <td>10.0</td>\n",
              "      <td>-35.0</td>\n",
              "      <td>15.0</td>\n",
              "      <td>POLYGON ((-35 10, -40 10, -40 15, -35 15, -35 ...</td>\n",
              "      <td>2020-06-16 00:00:00</td>\n",
              "      <td>12.5</td>\n",
              "      <td>-37.5</td>\n",
              "      <td>0.000414</td>\n",
              "      <td>POLYGON ((-35.00000 10.00000, -40.00000 10.000...</td>\n",
              "    </tr>\n",
              "  </tbody>\n",
              "</table>\n",
              "<p>11275 rows × 11 columns</p>\n",
              "</div>"
            ],
            "text/plain": [
              "       New_ID  minx  miny  maxx  maxy  \\\n",
              "0           1 -70.0 -45.0 -65.0 -40.0   \n",
              "1           2 -75.0 -40.0 -70.0 -35.0   \n",
              "2           3 -70.0 -40.0 -65.0 -35.0   \n",
              "3           4 -65.0 -40.0 -60.0 -35.0   \n",
              "4           5 -60.0 -40.0 -55.0 -35.0   \n",
              "...       ...   ...   ...   ...   ...   \n",
              "11270   11271 -45.0   5.0 -40.0  10.0   \n",
              "11271   11272 -40.0   5.0 -35.0  10.0   \n",
              "11272   11273 -50.0  10.0 -45.0  15.0   \n",
              "11273   11274 -45.0  10.0 -40.0  15.0   \n",
              "11274   11275 -40.0  10.0 -35.0  15.0   \n",
              "\n",
              "                                              pixel_area                time  \\\n",
              "0      POLYGON ((-65 -45, -70 -45, -70 -40, -65 -40, ... 2003-01-16 12:00:00   \n",
              "1      POLYGON ((-70 -40, -75 -40, -75 -35, -70 -35, ... 2003-01-16 12:00:00   \n",
              "2      POLYGON ((-65 -40, -70 -40, -70 -35, -65 -35, ... 2003-01-16 12:00:00   \n",
              "3      POLYGON ((-60 -40, -65 -40, -65 -35, -60 -35, ... 2003-01-16 12:00:00   \n",
              "4      POLYGON ((-55 -40, -60 -40, -60 -35, -55 -35, ... 2003-01-16 12:00:00   \n",
              "...                                                  ...                 ...   \n",
              "11270    POLYGON ((-40 5, -45 5, -45 10, -40 10, -40 5)) 2020-06-16 00:00:00   \n",
              "11271    POLYGON ((-35 5, -40 5, -40 10, -35 10, -35 5)) 2020-06-16 00:00:00   \n",
              "11272  POLYGON ((-45 10, -50 10, -50 15, -45 15, -45 ... 2020-06-16 00:00:00   \n",
              "11273  POLYGON ((-40 10, -45 10, -45 15, -40 15, -40 ... 2020-06-16 00:00:00   \n",
              "11274  POLYGON ((-35 10, -40 10, -40 15, -35 15, -35 ... 2020-06-16 00:00:00   \n",
              "\n",
              "        lat   lon      xco2                                           geometry  \n",
              "0     -42.5 -67.5  0.000374  POLYGON ((-65.00000 -45.00000, -70.00000 -45.0...  \n",
              "1     -37.5 -72.5  0.000375  POLYGON ((-70.00000 -40.00000, -75.00000 -40.0...  \n",
              "2     -37.5 -67.5  0.000373  POLYGON ((-65.00000 -40.00000, -70.00000 -40.0...  \n",
              "3     -37.5 -62.5  0.000374  POLYGON ((-60.00000 -40.00000, -65.00000 -40.0...  \n",
              "4     -37.5 -57.5  0.000375  POLYGON ((-55.00000 -40.00000, -60.00000 -40.0...  \n",
              "...     ...   ...       ...                                                ...  \n",
              "11270   7.5 -42.5  0.000415  POLYGON ((-40.00000 5.00000, -45.00000 5.00000...  \n",
              "11271   7.5 -37.5  0.000414  POLYGON ((-35.00000 5.00000, -40.00000 5.00000...  \n",
              "11272  12.5 -47.5  0.000415  POLYGON ((-45.00000 10.00000, -50.00000 10.000...  \n",
              "11273  12.5 -42.5  0.000416  POLYGON ((-40.00000 10.00000, -45.00000 10.000...  \n",
              "11274  12.5 -37.5  0.000414  POLYGON ((-35.00000 10.00000, -40.00000 10.000...  \n",
              "\n",
              "[11275 rows x 11 columns]"
            ]
          },
          "execution_count": 21,
          "metadata": {},
          "output_type": "execute_result"
        }
      ],
      "source": [
        "my_merge"
      ]
    },
    {
      "cell_type": "code",
      "execution_count": null,
      "metadata": {},
      "outputs": [],
      "source": []
    }
  ],
  "metadata": {
    "colab": {
      "collapsed_sections": [],
      "name": "oco2-L4.ipynb",
      "provenance": []
    },
    "interpreter": {
      "hash": "85d1c656cb01c6deceab63fc5a9395e22e95e6a557b568e296407028b767fccd"
    },
    "kernelspec": {
      "display_name": "Python 3.9.12 ('geoproc')",
      "language": "python",
      "name": "python3"
    },
    "language_info": {
      "codemirror_mode": {
        "name": "ipython",
        "version": 3
      },
      "file_extension": ".py",
      "mimetype": "text/x-python",
      "name": "python",
      "nbconvert_exporter": "python",
      "pygments_lexer": "ipython3",
      "version": "3.9.12"
    },
    "orig_nbformat": 4
  },
  "nbformat": 4,
  "nbformat_minor": 0
}
