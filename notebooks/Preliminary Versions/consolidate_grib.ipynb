{
 "cells": [
  {
   "cell_type": "markdown",
   "metadata": {},
   "source": [
    "# Append grib2 files\n",
    "\n",
    "Rev. PA1 (24-May-2022)\n",
    "- append daily files in a monthly file to be postprocessed later with the script mjt_cptec_grib_v4\n",
    "\n"
   ]
  },
  {
   "cell_type": "code",
   "execution_count": 2,
   "metadata": {},
   "outputs": [
    {
     "name": "stdout",
     "output_type": "stream",
     "text": [
      "Files and directories in ' /home/mapbiomasar/MJT/CPTEC/MERGE_CPTEC ' :\n",
      "['2022', '2021', '2008', '2011', '2001', '2018', '2007', '2003', '2004', '2005', '2012', '2016', '2009', '2015', '2017', '2010', '2013', '2006', '2000', '2019', '2020', '2014', '2002']\n"
     ]
    }
   ],
   "source": [
    "# import OS module\n",
    "import os\n",
    "\n",
    "# Get the list of all files and directories\n",
    "path = '/home/mapbiomasar/MJT/CPTEC/MERGE_CPTEC'\n",
    "dir_list = os.listdir(path)\n",
    "\n",
    "print(\"Files and directories in '\", path, \"' :\")\n",
    "print(dir_list)\n"
   ]
  },
  {
   "cell_type": "code",
   "execution_count": 4,
   "metadata": {},
   "outputs": [],
   "source": [
    "# function that merges the grib file in each directory (month)\n",
    "# in a single file\n",
    "\n",
    "import os\n",
    "import shutil\n",
    "\n",
    "\n",
    "def AppendGribs(path,yr,mon):\n",
    "    \n",
    "    filenames = os.listdir(path)\n",
    "    # we define an output path for all merged files\n",
    "    out_path = '/home/mapbiomasar/MarcoFranco/MERGE_CPTEC/'\n",
    "    fext=open(out_path + yr + '_'+ mon + '.grib2','ab')\n",
    "    for f in filenames:\n",
    "        fo=open(path+f,'br')\n",
    "        # print(path+f)\n",
    "        shutil.copyfileobj(fo, fext)\n",
    "        fo.close()\n",
    "    fext.close()\n",
    "\n",
    "# path = \"/home/mapbiomasar/MarcoFranco/MERGE_CPTEC/2010/09/\"\n",
    "\n",
    "# AppendGribs(path)"
   ]
  },
  {
   "cell_type": "markdown",
   "metadata": {},
   "source": [
    "### Function that parses the whole directory\n"
   ]
  },
  {
   "cell_type": "code",
   "execution_count": 5,
   "metadata": {},
   "outputs": [
    {
     "name": "stdout",
     "output_type": "stream",
     "text": [
      "Merging monthly  2022  year data\n",
      "Merging monthly  2021  year data\n",
      "Merging monthly  2008  year data\n",
      "Merging monthly  2011  year data\n",
      "Merging monthly  2001  year data\n",
      "Merging monthly  2018  year data\n",
      "Merging monthly  2007  year data\n",
      "Merging monthly  2003  year data\n",
      "Merging monthly  2004  year data\n",
      "Merging monthly  2005  year data\n",
      "Merging monthly  2012  year data\n",
      "Merging monthly  2016  year data\n",
      "Merging monthly  2009  year data\n",
      "Merging monthly  2015  year data\n",
      "Merging monthly  2017  year data\n",
      "Merging monthly  2010  year data\n",
      "Merging monthly  2013  year data\n",
      "Merging monthly  2006  year data\n",
      "Merging monthly  2000  year data\n",
      "Merging monthly  2019  year data\n",
      "Merging monthly  2020  year data\n",
      "Merging monthly  2014  year data\n",
      "Merging monthly  2002  year data\n",
      "Processing time: 95.91094541549683\n"
     ]
    }
   ],
   "source": [
    "\n",
    "\n",
    "# MAIN\n",
    "# TODO: Make function and more modular as per Python style\n",
    "\n",
    "import time\n",
    "\n",
    "start_time = time.time()\n",
    "path = \"/home/mapbiomasar/MarcoFranco/MERGE_CPTEC/\"\n",
    "dir_l1 = os.listdir(path)\n",
    "# find the files recurrently\n",
    "for yr in dir_l1:\n",
    "    if yr.isnumeric():\n",
    "        print(\"Merging monthly \", yr, \" year data\")\n",
    "        year =  path + yr\n",
    "        dir_l2 = os.listdir(year)\n",
    "        for mon in dir_l2:\n",
    "            if mon.isnumeric():\n",
    "                path_to_file =  year +'/'+ mon + '/'\n",
    "                dir_l3 = os.listdir(path_to_file)\n",
    "                AppendGribs(path_to_file,yr,mon)\n",
    "                # for file_ in dir_l3:\n",
    "                #     # path_to_file is the full path\n",
    "                #     # file_ is the *actual* filename\n",
    "                \n",
    "print('Processing time:', time.time()-start_time)\n"
   ]
  },
  {
   "cell_type": "code",
   "execution_count": null,
   "metadata": {},
   "outputs": [],
   "source": []
  }
 ],
 "metadata": {
  "interpreter": {
   "hash": "85d1c656cb01c6deceab63fc5a9395e22e95e6a557b568e296407028b767fccd"
  },
  "kernelspec": {
   "display_name": "Python 3.9.12 ('geoproc')",
   "language": "python",
   "name": "python3"
  },
  "language_info": {
   "codemirror_mode": {
    "name": "ipython",
    "version": 3
   },
   "file_extension": ".py",
   "mimetype": "text/x-python",
   "name": "python",
   "nbconvert_exporter": "python",
   "pygments_lexer": "ipython3",
   "version": "3.9.12"
  },
  "orig_nbformat": 4
 },
 "nbformat": 4,
 "nbformat_minor": 2
}
