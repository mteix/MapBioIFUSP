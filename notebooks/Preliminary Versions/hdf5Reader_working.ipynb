{
  "cells": [
    {
      "attachments": {},
      "cell_type": "markdown",
      "metadata": {},
      "source": [
        "## Processamento de arquivos HDF5\n",
        "\n",
        "Este script processa arquivos no formato HDF5. Primeiramente exploramos o conteúdo do *dataset* com o GDAL e depois processamos as variáveis de interesse.\n",
        "\n",
        "Versão: 0.1 \n",
        "\n",
        "Bugs and contact: Márcio Teixeira   mjt@if.usp.br  & Pedro Tavares pedrotavares@usp.br  \n"
      ]
    },
    {
      "attachments": {},
      "cell_type": "markdown",
      "metadata": {},
      "source": [
        "1. Usando o GDAL para ter informaçoes sobre os campos dos arquivos que queremos importar "
      ]
    },
    {
      "cell_type": "code",
      "execution_count": 1,
      "metadata": {},
      "outputs": [
        {
          "name": "stdout",
          "output_type": "stream",
          "text": [
            "Driver: HDF5/Hierarchical Data Format Release 5\n",
            "Files: C:\\Users\\Marcio\\Desktop\\OMI\\teste1.he5\n",
            "Size is 512, 512\n",
            "Metadata:\n",
            "  HDFEOS_ADDITIONAL_FILE_ATTRIBUTES_EndUTC=2007-12-27T11:45:00.000000Z\n",
            "  HDFEOS_ADDITIONAL_FILE_ATTRIBUTES_GranuleDay=26 \n",
            "  HDFEOS_ADDITIONAL_FILE_ATTRIBUTES_GranuleDayOfYear=360 \n",
            "  HDFEOS_ADDITIONAL_FILE_ATTRIBUTES_GranuleMonth=12 \n",
            "  HDFEOS_ADDITIONAL_FILE_ATTRIBUTES_GranuleYear=2007 \n",
            "  HDFEOS_ADDITIONAL_FILE_ATTRIBUTES_InstrumentName=OMI\n",
            "  HDFEOS_ADDITIONAL_FILE_ATTRIBUTES_OrbitNumber=18315 18316 18317 18318 18319 18320 18321 18322 18323 18324 18325 18326 18327 18328 18329 18330 18331 18332 18333 18334 18335 18336 18337 18338 18339 18340 18341 18342 18343 18344 18345 18346 18347 18348 18349 18350 18351 18352 18353 18354 18355 18356 18357 18358 18359 \n",
            "  HDFEOS_ADDITIONAL_FILE_ATTRIBUTES_OrbitPeriod=5933 5933 5933 5933 5933 5933 5933 5933 5933 5933 5933 5933 5933 5933 5933 5933 5933 5933 5933 5933 5933 5933 5933 5933 5933 5933 5933 5933 5933 5933 5933 5932 5933 5933 5933 5934 5933 5932 5933 5933 5933 5933 5933 5933 5933 \n",
            "  HDFEOS_ADDITIONAL_FILE_ATTRIBUTES_Period=Daily\n",
            "  HDFEOS_ADDITIONAL_FILE_ATTRIBUTES_PGEVersion=\"1.7.2\"\n",
            "  HDFEOS_ADDITIONAL_FILE_ATTRIBUTES_ProcessLevel=3\n",
            "  HDFEOS_ADDITIONAL_FILE_ATTRIBUTES_StartUTC=2007-12-25T12:15:00.000000Z\n",
            "  HDFEOS_ADDITIONAL_FILE_ATTRIBUTES_TAI93At0zOfGranule=472780806 \n",
            "  HDFEOS_GRIDS_Aerosol_NearUV_Grid_Data_Fields_CloudFraction_MissingValue=-1.2676506e+30 \n",
            "  HDFEOS_GRIDS_Aerosol_NearUV_Grid_Data_Fields_CloudFraction_Offset=0 \n",
            "  HDFEOS_GRIDS_Aerosol_NearUV_Grid_Data_Fields_CloudFraction_ScaleFactor=1 \n",
            "  HDFEOS_GRIDS_Aerosol_NearUV_Grid_Data_Fields_CloudFraction_Title=Cloud Fraction\n",
            "  HDFEOS_GRIDS_Aerosol_NearUV_Grid_Data_Fields_CloudFraction_UniqueFieldDefinition=OMI-Specific\n",
            "  HDFEOS_GRIDS_Aerosol_NearUV_Grid_Data_Fields_CloudFraction_Units=NoUnits\n",
            "  HDFEOS_GRIDS_Aerosol_NearUV_Grid_Data_Fields_CloudFraction__FillValue=-1.2676506e+30 \n",
            "  HDFEOS_GRIDS_Aerosol_NearUV_Grid_Data_Fields_CloudOpticalDepth_MissingValue=-1.2676506e+30 \n",
            "  HDFEOS_GRIDS_Aerosol_NearUV_Grid_Data_Fields_CloudOpticalDepth_Offset=0 \n",
            "  HDFEOS_GRIDS_Aerosol_NearUV_Grid_Data_Fields_CloudOpticalDepth_ScaleFactor=1 \n",
            "  HDFEOS_GRIDS_Aerosol_NearUV_Grid_Data_Fields_CloudOpticalDepth_Title=Cloud Optical Depth\n",
            "  HDFEOS_GRIDS_Aerosol_NearUV_Grid_Data_Fields_CloudOpticalDepth_UniqueFieldDefinition=OMI-Specific\n",
            "  HDFEOS_GRIDS_Aerosol_NearUV_Grid_Data_Fields_CloudOpticalDepth_Units=NoUnits\n",
            "  HDFEOS_GRIDS_Aerosol_NearUV_Grid_Data_Fields_CloudOpticalDepth__FillValue=-1.2676506e+30 \n",
            "  HDFEOS_GRIDS_Aerosol_NearUV_Grid_Data_Fields_FinalAerosolAbsOpticalDepth354_MissingValue=-1.2676506e+30 \n",
            "  HDFEOS_GRIDS_Aerosol_NearUV_Grid_Data_Fields_FinalAerosolAbsOpticalDepth354_Offset=0 \n",
            "  HDFEOS_GRIDS_Aerosol_NearUV_Grid_Data_Fields_FinalAerosolAbsOpticalDepth354_ScaleFactor=1 \n",
            "  HDFEOS_GRIDS_Aerosol_NearUV_Grid_Data_Fields_FinalAerosolAbsOpticalDepth354_Title=Final Aerosol Absorption Optical Depth at 354 nm\n",
            "  HDFEOS_GRIDS_Aerosol_NearUV_Grid_Data_Fields_FinalAerosolAbsOpticalDepth354_UniqueFieldDefinition=OMI-Specific\n",
            "  HDFEOS_GRIDS_Aerosol_NearUV_Grid_Data_Fields_FinalAerosolAbsOpticalDepth354_Units=NoUnits\n",
            "  HDFEOS_GRIDS_Aerosol_NearUV_Grid_Data_Fields_FinalAerosolAbsOpticalDepth354__FillValue=-1.2676506e+30 \n",
            "  HDFEOS_GRIDS_Aerosol_NearUV_Grid_Data_Fields_FinalAerosolAbsOpticalDepth388_MissingValue=-1.2676506e+30 \n",
            "  HDFEOS_GRIDS_Aerosol_NearUV_Grid_Data_Fields_FinalAerosolAbsOpticalDepth388_Offset=0 \n",
            "  HDFEOS_GRIDS_Aerosol_NearUV_Grid_Data_Fields_FinalAerosolAbsOpticalDepth388_ScaleFactor=1 \n",
            "  HDFEOS_GRIDS_Aerosol_NearUV_Grid_Data_Fields_FinalAerosolAbsOpticalDepth388_Title=Final Aerosol Absorption Optical Depth at 388 nm\n",
            "  HDFEOS_GRIDS_Aerosol_NearUV_Grid_Data_Fields_FinalAerosolAbsOpticalDepth388_UniqueFieldDefinition=OMI-Specific\n",
            "  HDFEOS_GRIDS_Aerosol_NearUV_Grid_Data_Fields_FinalAerosolAbsOpticalDepth388_Units=NoUnits\n",
            "  HDFEOS_GRIDS_Aerosol_NearUV_Grid_Data_Fields_FinalAerosolAbsOpticalDepth388__FillValue=-1.2676506e+30 \n",
            "  HDFEOS_GRIDS_Aerosol_NearUV_Grid_Data_Fields_FinalAerosolAbsOpticalDepth500_MissingValue=-1.2676506e+30 \n",
            "  HDFEOS_GRIDS_Aerosol_NearUV_Grid_Data_Fields_FinalAerosolAbsOpticalDepth500_Offset=0 \n",
            "  HDFEOS_GRIDS_Aerosol_NearUV_Grid_Data_Fields_FinalAerosolAbsOpticalDepth500_ScaleFactor=1 \n",
            "  HDFEOS_GRIDS_Aerosol_NearUV_Grid_Data_Fields_FinalAerosolAbsOpticalDepth500_Title=Final Aerosol Absorption Optical Depth at 500 nm\n",
            "  HDFEOS_GRIDS_Aerosol_NearUV_Grid_Data_Fields_FinalAerosolAbsOpticalDepth500_UniqueFieldDefinition=OMI-Specific\n",
            "  HDFEOS_GRIDS_Aerosol_NearUV_Grid_Data_Fields_FinalAerosolAbsOpticalDepth500_Units=NoUnits\n",
            "  HDFEOS_GRIDS_Aerosol_NearUV_Grid_Data_Fields_FinalAerosolAbsOpticalDepth500__FillValue=-1.2676506e+30 \n",
            "  HDFEOS_GRIDS_Aerosol_NearUV_Grid_Data_Fields_FinalAerosolOpticalDepth354_MissingValue=-1.2676506e+30 \n",
            "  HDFEOS_GRIDS_Aerosol_NearUV_Grid_Data_Fields_FinalAerosolOpticalDepth354_Offset=0 \n",
            "  HDFEOS_GRIDS_Aerosol_NearUV_Grid_Data_Fields_FinalAerosolOpticalDepth354_ScaleFactor=1 \n",
            "  HDFEOS_GRIDS_Aerosol_NearUV_Grid_Data_Fields_FinalAerosolOpticalDepth354_Title=Final Aerosol Optical Depth at 354 nm\n",
            "  HDFEOS_GRIDS_Aerosol_NearUV_Grid_Data_Fields_FinalAerosolOpticalDepth354_UniqueFieldDefinition=OMI-Specific\n",
            "  HDFEOS_GRIDS_Aerosol_NearUV_Grid_Data_Fields_FinalAerosolOpticalDepth354_Units=NoUnits\n",
            "  HDFEOS_GRIDS_Aerosol_NearUV_Grid_Data_Fields_FinalAerosolOpticalDepth354__FillValue=-1.2676506e+30 \n",
            "  HDFEOS_GRIDS_Aerosol_NearUV_Grid_Data_Fields_FinalAerosolOpticalDepth388_MissingValue=-1.2676506e+30 \n",
            "  HDFEOS_GRIDS_Aerosol_NearUV_Grid_Data_Fields_FinalAerosolOpticalDepth388_Offset=0 \n",
            "  HDFEOS_GRIDS_Aerosol_NearUV_Grid_Data_Fields_FinalAerosolOpticalDepth388_ScaleFactor=1 \n",
            "  HDFEOS_GRIDS_Aerosol_NearUV_Grid_Data_Fields_FinalAerosolOpticalDepth388_Title=Final Aerosol Optical Depth at 388 nm\n",
            "  HDFEOS_GRIDS_Aerosol_NearUV_Grid_Data_Fields_FinalAerosolOpticalDepth388_UniqueFieldDefinition=OMI-Specific\n",
            "  HDFEOS_GRIDS_Aerosol_NearUV_Grid_Data_Fields_FinalAerosolOpticalDepth388_Units=NoUnits\n",
            "  HDFEOS_GRIDS_Aerosol_NearUV_Grid_Data_Fields_FinalAerosolOpticalDepth388__FillValue=-1.2676506e+30 \n",
            "  HDFEOS_GRIDS_Aerosol_NearUV_Grid_Data_Fields_FinalAerosolOpticalDepth500_MissingValue=-1.2676506e+30 \n",
            "  HDFEOS_GRIDS_Aerosol_NearUV_Grid_Data_Fields_FinalAerosolOpticalDepth500_Offset=0 \n",
            "  HDFEOS_GRIDS_Aerosol_NearUV_Grid_Data_Fields_FinalAerosolOpticalDepth500_ScaleFactor=1 \n",
            "  HDFEOS_GRIDS_Aerosol_NearUV_Grid_Data_Fields_FinalAerosolOpticalDepth500_Title=Final Aerosol Optical Depth at 500 nm\n",
            "  HDFEOS_GRIDS_Aerosol_NearUV_Grid_Data_Fields_FinalAerosolOpticalDepth500_UniqueFieldDefinition=OMI-Specific\n",
            "  HDFEOS_GRIDS_Aerosol_NearUV_Grid_Data_Fields_FinalAerosolOpticalDepth500_Units=NoUnits\n",
            "  HDFEOS_GRIDS_Aerosol_NearUV_Grid_Data_Fields_FinalAerosolOpticalDepth500__FillValue=-1.2676506e+30 \n",
            "  HDFEOS_GRIDS_Aerosol_NearUV_Grid_Data_Fields_FinalAerosolSingleScattAlb354_MissingValue=-1.2676506e+30 \n",
            "  HDFEOS_GRIDS_Aerosol_NearUV_Grid_Data_Fields_FinalAerosolSingleScattAlb354_Offset=0 \n",
            "  HDFEOS_GRIDS_Aerosol_NearUV_Grid_Data_Fields_FinalAerosolSingleScattAlb354_ScaleFactor=1 \n",
            "  HDFEOS_GRIDS_Aerosol_NearUV_Grid_Data_Fields_FinalAerosolSingleScattAlb354_Title=Final Aerosol Single Scattering Albedo at 354 nm\n",
            "  HDFEOS_GRIDS_Aerosol_NearUV_Grid_Data_Fields_FinalAerosolSingleScattAlb354_UniqueFieldDefinition=OMI-Specific\n",
            "  HDFEOS_GRIDS_Aerosol_NearUV_Grid_Data_Fields_FinalAerosolSingleScattAlb354_Units=NoUnits\n",
            "  HDFEOS_GRIDS_Aerosol_NearUV_Grid_Data_Fields_FinalAerosolSingleScattAlb354__FillValue=-1.2676506e+30 \n",
            "  HDFEOS_GRIDS_Aerosol_NearUV_Grid_Data_Fields_FinalAerosolSingleScattAlb388_MissingValue=-1.2676506e+30 \n",
            "  HDFEOS_GRIDS_Aerosol_NearUV_Grid_Data_Fields_FinalAerosolSingleScattAlb388_Offset=0 \n",
            "  HDFEOS_GRIDS_Aerosol_NearUV_Grid_Data_Fields_FinalAerosolSingleScattAlb388_ScaleFactor=1 \n",
            "  HDFEOS_GRIDS_Aerosol_NearUV_Grid_Data_Fields_FinalAerosolSingleScattAlb388_Title=Final Aerosol Single Scattering Albedo at 388 nm\n",
            "  HDFEOS_GRIDS_Aerosol_NearUV_Grid_Data_Fields_FinalAerosolSingleScattAlb388_UniqueFieldDefinition=OMI-Specific\n",
            "  HDFEOS_GRIDS_Aerosol_NearUV_Grid_Data_Fields_FinalAerosolSingleScattAlb388_Units=NoUnits\n",
            "  HDFEOS_GRIDS_Aerosol_NearUV_Grid_Data_Fields_FinalAerosolSingleScattAlb388__FillValue=-1.2676506e+30 \n",
            "  HDFEOS_GRIDS_Aerosol_NearUV_Grid_Data_Fields_FinalAerosolSingleScattAlb500_MissingValue=-1.2676506e+30 \n",
            "  HDFEOS_GRIDS_Aerosol_NearUV_Grid_Data_Fields_FinalAerosolSingleScattAlb500_Offset=0 \n",
            "  HDFEOS_GRIDS_Aerosol_NearUV_Grid_Data_Fields_FinalAerosolSingleScattAlb500_ScaleFactor=1 \n",
            "  HDFEOS_GRIDS_Aerosol_NearUV_Grid_Data_Fields_FinalAerosolSingleScattAlb500_Title=Final Aerosol Single Scattering Albedo at 500 nm\n",
            "  HDFEOS_GRIDS_Aerosol_NearUV_Grid_Data_Fields_FinalAerosolSingleScattAlb500_UniqueFieldDefinition=OMI-Specific\n",
            "  HDFEOS_GRIDS_Aerosol_NearUV_Grid_Data_Fields_FinalAerosolSingleScattAlb500_Units=NoUnits\n",
            "  HDFEOS_GRIDS_Aerosol_NearUV_Grid_Data_Fields_FinalAerosolSingleScattAlb500__FillValue=-1.2676506e+30 \n",
            "  HDFEOS_GRIDS_Aerosol_NearUV_Grid_Data_Fields_UVAerosolIndex_MissingValue=-1.2676506e+30 \n",
            "  HDFEOS_GRIDS_Aerosol_NearUV_Grid_Data_Fields_UVAerosolIndex_Offset=0 \n",
            "  HDFEOS_GRIDS_Aerosol_NearUV_Grid_Data_Fields_UVAerosolIndex_ScaleFactor=1 \n",
            "  HDFEOS_GRIDS_Aerosol_NearUV_Grid_Data_Fields_UVAerosolIndex_Title=UV Aerosol Index\n",
            "  HDFEOS_GRIDS_Aerosol_NearUV_Grid_Data_Fields_UVAerosolIndex_UniqueFieldDefinition=OMI-Specific\n",
            "  HDFEOS_GRIDS_Aerosol_NearUV_Grid_Data_Fields_UVAerosolIndex_Units=NoUnits\n",
            "  HDFEOS_GRIDS_Aerosol_NearUV_Grid_Data_Fields_UVAerosolIndex__FillValue=-1.2676506e+30 \n",
            "  HDFEOS_GRIDS_Aerosol_NearUV_Grid_GCTPProjectionCode=0 \n",
            "  HDFEOS_GRIDS_Aerosol_NearUV_Grid_GridOrigin=Center\n",
            "  HDFEOS_GRIDS_Aerosol_NearUV_Grid_GridSpacing=(1.0,1.0)\n",
            "  HDFEOS_GRIDS_Aerosol_NearUV_Grid_GridSpacingUnit=deg\n",
            "  HDFEOS_GRIDS_Aerosol_NearUV_Grid_GridSpan=(-180,180,-90,90)\n",
            "  HDFEOS_GRIDS_Aerosol_NearUV_Grid_GridSpanUnit=deg\n",
            "  HDFEOS_GRIDS_Aerosol_NearUV_Grid_NumberOfLatitudesInGrid=180 \n",
            "  HDFEOS_GRIDS_Aerosol_NearUV_Grid_NumberOfLongitudesInGrid=360 \n",
            "  HDFEOS_GRIDS_Aerosol_NearUV_Grid_Projection=Geographic\n",
            "  HDFEOS_INFORMATION_HDFEOSVersion=HDFEOS_5.1.15\n",
            "Subdatasets:\n",
            "  SUBDATASET_1_NAME=HDF5:\"C:\\Users\\Marcio\\Desktop\\OMI\\teste1.he5\"://HDFEOS/GRIDS/Aerosol_NearUV_Grid/Data_Fields/CloudFraction\n",
            "  SUBDATASET_1_DESC=[180x360] //HDFEOS/GRIDS/Aerosol_NearUV_Grid/Data_Fields/CloudFraction (32-bit floating-point)\n",
            "  SUBDATASET_2_NAME=HDF5:\"C:\\Users\\Marcio\\Desktop\\OMI\\teste1.he5\"://HDFEOS/GRIDS/Aerosol_NearUV_Grid/Data_Fields/CloudOpticalDepth\n",
            "  SUBDATASET_2_DESC=[180x360] //HDFEOS/GRIDS/Aerosol_NearUV_Grid/Data_Fields/CloudOpticalDepth (32-bit floating-point)\n",
            "  SUBDATASET_3_NAME=HDF5:\"C:\\Users\\Marcio\\Desktop\\OMI\\teste1.he5\"://HDFEOS/GRIDS/Aerosol_NearUV_Grid/Data_Fields/FinalAerosolAbsOpticalDepth354\n",
            "  SUBDATASET_3_DESC=[180x360] //HDFEOS/GRIDS/Aerosol_NearUV_Grid/Data_Fields/FinalAerosolAbsOpticalDepth354 (32-bit floating-point)\n",
            "  SUBDATASET_4_NAME=HDF5:\"C:\\Users\\Marcio\\Desktop\\OMI\\teste1.he5\"://HDFEOS/GRIDS/Aerosol_NearUV_Grid/Data_Fields/FinalAerosolAbsOpticalDepth388\n",
            "  SUBDATASET_4_DESC=[180x360] //HDFEOS/GRIDS/Aerosol_NearUV_Grid/Data_Fields/FinalAerosolAbsOpticalDepth388 (32-bit floating-point)\n",
            "  SUBDATASET_5_NAME=HDF5:\"C:\\Users\\Marcio\\Desktop\\OMI\\teste1.he5\"://HDFEOS/GRIDS/Aerosol_NearUV_Grid/Data_Fields/FinalAerosolAbsOpticalDepth500\n",
            "  SUBDATASET_5_DESC=[180x360] //HDFEOS/GRIDS/Aerosol_NearUV_Grid/Data_Fields/FinalAerosolAbsOpticalDepth500 (32-bit floating-point)\n",
            "  SUBDATASET_6_NAME=HDF5:\"C:\\Users\\Marcio\\Desktop\\OMI\\teste1.he5\"://HDFEOS/GRIDS/Aerosol_NearUV_Grid/Data_Fields/FinalAerosolOpticalDepth354\n",
            "  SUBDATASET_6_DESC=[180x360] //HDFEOS/GRIDS/Aerosol_NearUV_Grid/Data_Fields/FinalAerosolOpticalDepth354 (32-bit floating-point)\n",
            "  SUBDATASET_7_NAME=HDF5:\"C:\\Users\\Marcio\\Desktop\\OMI\\teste1.he5\"://HDFEOS/GRIDS/Aerosol_NearUV_Grid/Data_Fields/FinalAerosolOpticalDepth388\n",
            "  SUBDATASET_7_DESC=[180x360] //HDFEOS/GRIDS/Aerosol_NearUV_Grid/Data_Fields/FinalAerosolOpticalDepth388 (32-bit floating-point)\n",
            "  SUBDATASET_8_NAME=HDF5:\"C:\\Users\\Marcio\\Desktop\\OMI\\teste1.he5\"://HDFEOS/GRIDS/Aerosol_NearUV_Grid/Data_Fields/FinalAerosolOpticalDepth500\n",
            "  SUBDATASET_8_DESC=[180x360] //HDFEOS/GRIDS/Aerosol_NearUV_Grid/Data_Fields/FinalAerosolOpticalDepth500 (32-bit floating-point)\n",
            "  SUBDATASET_9_NAME=HDF5:\"C:\\Users\\Marcio\\Desktop\\OMI\\teste1.he5\"://HDFEOS/GRIDS/Aerosol_NearUV_Grid/Data_Fields/FinalAerosolSingleScattAlb354\n",
            "  SUBDATASET_9_DESC=[180x360] //HDFEOS/GRIDS/Aerosol_NearUV_Grid/Data_Fields/FinalAerosolSingleScattAlb354 (32-bit floating-point)\n",
            "  SUBDATASET_10_NAME=HDF5:\"C:\\Users\\Marcio\\Desktop\\OMI\\teste1.he5\"://HDFEOS/GRIDS/Aerosol_NearUV_Grid/Data_Fields/FinalAerosolSingleScattAlb388\n",
            "  SUBDATASET_10_DESC=[180x360] //HDFEOS/GRIDS/Aerosol_NearUV_Grid/Data_Fields/FinalAerosolSingleScattAlb388 (32-bit floating-point)\n",
            "  SUBDATASET_11_NAME=HDF5:\"C:\\Users\\Marcio\\Desktop\\OMI\\teste1.he5\"://HDFEOS/GRIDS/Aerosol_NearUV_Grid/Data_Fields/FinalAerosolSingleScattAlb500\n",
            "  SUBDATASET_11_DESC=[180x360] //HDFEOS/GRIDS/Aerosol_NearUV_Grid/Data_Fields/FinalAerosolSingleScattAlb500 (32-bit floating-point)\n",
            "  SUBDATASET_12_NAME=HDF5:\"C:\\Users\\Marcio\\Desktop\\OMI\\teste1.he5\"://HDFEOS/GRIDS/Aerosol_NearUV_Grid/Data_Fields/UVAerosolIndex\n",
            "  SUBDATASET_12_DESC=[180x360] //HDFEOS/GRIDS/Aerosol_NearUV_Grid/Data_Fields/UVAerosolIndex (32-bit floating-point)\n",
            "Corner Coordinates:\n",
            "Upper Left  (    0.0,    0.0)\n",
            "Lower Left  (    0.0,  512.0)\n",
            "Upper Right (  512.0,    0.0)\n",
            "Lower Right (  512.0,  512.0)\n",
            "Center      (  256.0,  256.0)\n",
            "\n"
          ]
        }
      ],
      "source": [
        "import subprocess\n",
        "\n",
        "\n",
        "path = \"C:\\\\Users\\\\Marcio\\\\Desktop\\\\OMI\\\\teste1.he5\"\n",
        "\n",
        "cmd = ['gdalinfo', path]\n",
        "my_process = subprocess.Popen(cmd, stdout=subprocess.PIPE, stderr=subprocess.PIPE)\n",
        "\n",
        "output, error_msg = my_process.communicate()\n",
        "\n",
        "\n",
        "print(output.decode('utf-8'))"
      ]
    },
    {
      "attachments": {},
      "cell_type": "markdown",
      "metadata": {},
      "source": [
        "### Possível solução alternativa"
      ]
    },
    {
      "attachments": {},
      "cell_type": "markdown",
      "metadata": {},
      "source": [
        "2. Lê recursivamente os niveis do HDF5. Com isso podemos usar os valores para acessar os elementos do HDF5. \n",
        "\n",
        "Ver seção \"método manual\""
      ]
    },
    {
      "cell_type": "code",
      "execution_count": 2,
      "metadata": {},
      "outputs": [
        {
          "name": "stdout",
          "output_type": "stream",
          "text": [
            "HDFEOS <class 'h5py._hl.group.Group'>\n",
            "HDFEOS INFORMATION <class 'h5py._hl.group.Group'>\n",
            "HDFEOS\n",
            "HDFEOS/ADDITIONAL\n",
            "HDFEOS/ADDITIONAL/FILE_ATTRIBUTES\n",
            "HDFEOS/GRIDS\n",
            "HDFEOS/GRIDS/Aerosol NearUV Grid\n",
            "HDFEOS/GRIDS/Aerosol NearUV Grid/Data Fields\n",
            "HDFEOS/GRIDS/Aerosol NearUV Grid/Data Fields/CloudFraction\n",
            "HDFEOS/GRIDS/Aerosol NearUV Grid/Data Fields/CloudOpticalDepth\n",
            "HDFEOS/GRIDS/Aerosol NearUV Grid/Data Fields/FinalAerosolAbsOpticalDepth354\n",
            "HDFEOS/GRIDS/Aerosol NearUV Grid/Data Fields/FinalAerosolAbsOpticalDepth388\n",
            "HDFEOS/GRIDS/Aerosol NearUV Grid/Data Fields/FinalAerosolAbsOpticalDepth500\n",
            "HDFEOS/GRIDS/Aerosol NearUV Grid/Data Fields/FinalAerosolOpticalDepth354\n",
            "HDFEOS/GRIDS/Aerosol NearUV Grid/Data Fields/FinalAerosolOpticalDepth388\n",
            "HDFEOS/GRIDS/Aerosol NearUV Grid/Data Fields/FinalAerosolOpticalDepth500\n",
            "HDFEOS/GRIDS/Aerosol NearUV Grid/Data Fields/FinalAerosolSingleScattAlb354\n",
            "HDFEOS/GRIDS/Aerosol NearUV Grid/Data Fields/FinalAerosolSingleScattAlb388\n",
            "HDFEOS/GRIDS/Aerosol NearUV Grid/Data Fields/FinalAerosolSingleScattAlb500\n",
            "HDFEOS/GRIDS/Aerosol NearUV Grid/Data Fields/UVAerosolIndex\n",
            "HDFEOS INFORMATION\n",
            "HDFEOS INFORMATION/StructMetadata.0\n"
          ]
        }
      ],
      "source": [
        "import h5py\n",
        "f = h5py.File(path)\n",
        "\n",
        "for name in f:\n",
        "    print(name,f.get(name,getclass=True))\n",
        "\n",
        "\n",
        "def PrintName(name):\n",
        "    print(name)\n",
        "    \n",
        "f.visit(PrintName)\n"
      ]
    },
    {
      "cell_type": "code",
      "execution_count": 23,
      "metadata": {},
      "outputs": [],
      "source": [
        "cloud = f['HDFEOS/GRIDS/Aerosol NearUV Grid/Data Fields/CloudFraction']"
      ]
    },
    {
      "cell_type": "code",
      "execution_count": 26,
      "metadata": {},
      "outputs": [],
      "source": [
        "import numpy as np \n",
        "n1 = np.array(f['HDFEOS/GRIDS/Aerosol NearUV Grid/Data Fields/CloudFraction'][:])\n",
        "# data = f.get('HDFEOS/GRIDS/Aerosol NearUV Grid/Data Fields/CloudFraction').value"
      ]
    },
    {
      "cell_type": "code",
      "execution_count": 28,
      "metadata": {},
      "outputs": [
        {
          "data": {
            "text/plain": [
              "(180, 360)"
            ]
          },
          "execution_count": 28,
          "metadata": {},
          "output_type": "execute_result"
        }
      ],
      "source": [
        "n1.shape"
      ]
    },
    {
      "cell_type": "code",
      "execution_count": 15,
      "metadata": {},
      "outputs": [
        {
          "ename": "AttributeError",
          "evalue": "'Dataset' object has no attribute 'items'",
          "output_type": "error",
          "traceback": [
            "\u001b[1;31m---------------------------------------------------------------------------\u001b[0m",
            "\u001b[1;31mAttributeError\u001b[0m                            Traceback (most recent call last)",
            "Cell \u001b[1;32mIn[15], line 1\u001b[0m\n\u001b[1;32m----> 1\u001b[0m cloud\u001b[39m.\u001b[39;49mitems\n",
            "\u001b[1;31mAttributeError\u001b[0m: 'Dataset' object has no attribute 'items'"
          ]
        }
      ],
      "source": [
        "cloud.items"
      ]
    },
    {
      "cell_type": "code",
      "execution_count": 3,
      "metadata": {},
      "outputs": [],
      "source": [
        "import os\n",
        "import matplotlib as mpl\n",
        "import matplotlib.pyplot as plt\n",
        "# from mpl_toolkits.basemap import Basemap\n",
        "import numpy as np\n",
        "import h5py"
      ]
    },
    {
      "attachments": {},
      "cell_type": "markdown",
      "metadata": {},
      "source": [
        "## Metodo manual"
      ]
    },
    {
      "cell_type": "code",
      "execution_count": 16,
      "metadata": {},
      "outputs": [
        {
          "data": {
            "text/plain": [
              "['HDFEOS', 'HDFEOS INFORMATION']"
            ]
          },
          "execution_count": 16,
          "metadata": {},
          "output_type": "execute_result"
        }
      ],
      "source": [
        "f = h5py.File(path)\n",
        "\n",
        "list(f.keys())\n"
      ]
    },
    {
      "cell_type": "code",
      "execution_count": 17,
      "metadata": {},
      "outputs": [
        {
          "name": "stdout",
          "output_type": "stream",
          "text": [
            "['ADDITIONAL', 'GRIDS']\n",
            "[<HDF5 group \"/HDFEOS/GRIDS/Aerosol NearUV Grid\" (1 members)>]\n",
            "['CloudFraction', 'CloudOpticalDepth', 'FinalAerosolAbsOpticalDepth354', 'FinalAerosolAbsOpticalDepth388', 'FinalAerosolAbsOpticalDepth500', 'FinalAerosolOpticalDepth354', 'FinalAerosolOpticalDepth388', 'FinalAerosolOpticalDepth500', 'FinalAerosolSingleScattAlb354', 'FinalAerosolSingleScattAlb388', 'FinalAerosolSingleScattAlb500', 'UVAerosolIndex']\n"
          ]
        }
      ],
      "source": [
        "dset = f['HDFEOS']\n",
        "\n",
        "print(list(dset.keys()))\n",
        "\n",
        "grids = dset['GRIDS/']\n",
        "\n",
        "print(list(grids.values()))\n",
        "\n",
        "aero = grids['Aerosol NearUV Grid/Data Fields']\n",
        "\n",
        "print(list(aero))\n"
      ]
    },
    {
      "cell_type": "code",
      "execution_count": 21,
      "metadata": {},
      "outputs": [
        {
          "name": "stdout",
          "output_type": "stream",
          "text": [
            "['CloudFraction', 'CloudOpticalDepth', 'FinalAerosolAbsOpticalDepth354', 'FinalAerosolAbsOpticalDepth388', 'FinalAerosolAbsOpticalDepth500', 'FinalAerosolOpticalDepth354', 'FinalAerosolOpticalDepth388', 'FinalAerosolOpticalDepth500', 'FinalAerosolSingleScattAlb354', 'FinalAerosolSingleScattAlb388', 'FinalAerosolSingleScattAlb500', 'UVAerosolIndex']\n",
            "(180, 360)\n",
            "<class 'h5py._hl.dataset.Dataset'>\n"
          ]
        }
      ],
      "source": [
        "dset2 = f['HDFEOS/GRIDS/Aerosol NearUV Grid/Data Fields']\n",
        "print(list(dset2.keys()))\n",
        "\n",
        "cloud = f['HDFEOS/GRIDS/Aerosol NearUV Grid/Data Fields/CloudFraction']\n",
        "\n",
        "print(cloud.shape)\n",
        "print(cloud.__class__)"
      ]
    },
    {
      "attachments": {},
      "cell_type": "markdown",
      "metadata": {},
      "source": [
        "## Metodo Automatico\n",
        "\n",
        "Ongoing. Por algum motivo a recursão não funciona. Talvez tenha que se extrair os campos manualmente mesmo como acima e automatizar o *loop* do modo feito para o HDF\n",
        "\n",
        "COnseguimos resolver este problema lá em cima usando a \"solução alternativa\"!!!\n"
      ]
    },
    {
      "cell_type": "code",
      "execution_count": 104,
      "metadata": {},
      "outputs": [
        {
          "name": "stdout",
          "output_type": "stream",
          "text": [
            "Keys: <KeysViewHDF5 ['HDFEOS', 'HDFEOS INFORMATION']>\n",
            "<class 'h5py._hl.group.Group'>\n"
          ]
        }
      ],
      "source": [
        "import h5py\n",
        "filename = path\n",
        "\n",
        "with h5py.File(filename, \"r\") as f:\n",
        "    # Print all root level object names (aka keys) \n",
        "    # these can be group or dataset names \n",
        "    print(\"Keys: %s\" % f.keys())\n",
        "    # get first object name/key; may or may NOT be a group\n",
        "    a_group_key = list(f.keys())[0]\n",
        "\n",
        "    # get the object type for a_group_key: usually group or dataset\n",
        "    print(type(f[a_group_key])) \n",
        "\n",
        "    # If a_group_key is a group name, \n",
        "    # this gets the object names in the group and returns as a list\n",
        "    data = list(f[a_group_key])\n",
        "\n",
        "    # If a_group_key is a dataset name, \n",
        "    # this gets the dataset values and returns as a list\n",
        "    data = list(f[a_group_key])\n",
        "    # preferred methods to get dataset values:\n",
        "    ds_obj = f[a_group_key]      # returns as a h5py dataset object\n",
        "    ds_arr = f[a_group_key][()]  # returns as a numpy array"
      ]
    },
    {
      "cell_type": "code",
      "execution_count": 114,
      "metadata": {},
      "outputs": [
        {
          "data": {
            "text/plain": [
              "['ADDITIONAL', 'GRIDS']"
            ]
          },
          "execution_count": 114,
          "metadata": {},
          "output_type": "execute_result"
        }
      ],
      "source": [
        "data"
      ]
    },
    {
      "cell_type": "code",
      "execution_count": 9,
      "metadata": {},
      "outputs": [
        {
          "ename": "HDF4Error",
          "evalue": "SD (15): File is supported, must be either hdf, cdf, netcdf",
          "output_type": "error",
          "traceback": [
            "\u001b[1;31m---------------------------------------------------------------------------\u001b[0m",
            "\u001b[1;31mHDF4Error\u001b[0m                                 Traceback (most recent call last)",
            "Cell \u001b[1;32mIn[9], line 8\u001b[0m\n\u001b[0;32m      1\u001b[0m \u001b[39m# test cell: open file and get components\u001b[39;00m\n\u001b[0;32m      2\u001b[0m \n\u001b[0;32m      3\u001b[0m \u001b[39m# filename = \"C:\\Users\\mteix\\Desktop\\Deposit\\2010\\OMI-Aura_L3-OMAERUVd_2010m0101_v003-2017m0821t150309.he5\"\u001b[39;00m\n\u001b[1;32m   (...)\u001b[0m\n\u001b[0;32m      6\u001b[0m \n\u001b[0;32m      7\u001b[0m \u001b[39m# Uncomment to open *filename*  and list available SDS datasets\u001b[39;00m\n\u001b[1;32m----> 8\u001b[0m hdf \u001b[39m=\u001b[39m SD(path, SDC\u001b[39m.\u001b[39;49mREAD)\n\u001b[0;32m      9\u001b[0m \u001b[39mprint\u001b[39m (hdf\u001b[39m.\u001b[39mdatasets())\n\u001b[0;32m     11\u001b[0m \u001b[39m# co_meas = GetHDFData(hdf,'CO_VMR_A','CO_VMR_D')\u001b[39;00m\n",
            "File \u001b[1;32mc:\\Users\\mteix\\miniconda3\\envs\\geoproc\\lib\\site-packages\\pyhdf\\SD.py:1429\u001b[0m, in \u001b[0;36mSD.__init__\u001b[1;34m(self, path, mode)\u001b[0m\n\u001b[0;32m   1426\u001b[0m     \u001b[39mraise\u001b[39;00m HDF4Error(\u001b[39m\"\u001b[39m\u001b[39mSD: bad mode, READ or WRITE must be set\u001b[39m\u001b[39m\"\u001b[39m)\n\u001b[0;32m   1428\u001b[0m \u001b[39mid\u001b[39m \u001b[39m=\u001b[39m _C\u001b[39m.\u001b[39mSDstart(path, mode)\n\u001b[1;32m-> 1429\u001b[0m _checkErr(\u001b[39m'\u001b[39;49m\u001b[39mSD\u001b[39;49m\u001b[39m'\u001b[39;49m, \u001b[39mid\u001b[39;49m, \u001b[39m\"\u001b[39;49m\u001b[39mcannot open \u001b[39;49m\u001b[39m%s\u001b[39;49;00m\u001b[39m\"\u001b[39;49m \u001b[39m%\u001b[39;49m path)\n\u001b[0;32m   1430\u001b[0m \u001b[39mself\u001b[39m\u001b[39m.\u001b[39m_id \u001b[39m=\u001b[39m \u001b[39mid\u001b[39m\n",
            "File \u001b[1;32mc:\\Users\\mteix\\miniconda3\\envs\\geoproc\\lib\\site-packages\\pyhdf\\error.py:23\u001b[0m, in \u001b[0;36m_checkErr\u001b[1;34m(procName, val, msg)\u001b[0m\n\u001b[0;32m     21\u001b[0m \u001b[39melse\u001b[39;00m:\n\u001b[0;32m     22\u001b[0m     err \u001b[39m=\u001b[39m \u001b[39m\"\u001b[39m\u001b[39m%s\u001b[39;00m\u001b[39m : \u001b[39m\u001b[39m%s\u001b[39;00m\u001b[39m\"\u001b[39m \u001b[39m%\u001b[39m (procName, msg)\n\u001b[1;32m---> 23\u001b[0m \u001b[39mraise\u001b[39;00m HDF4Error(err)\n",
            "\u001b[1;31mHDF4Error\u001b[0m: SD (15): File is supported, must be either hdf, cdf, netcdf"
          ]
        }
      ],
      "source": [
        "# test cell: open file and get components\n",
        "\n",
        "# filename = \"C:\\Users\\mteix\\Desktop\\Deposit\\2010\\OMI-Aura_L3-OMAERUVd_2010m0101_v003-2017m0821t150309.he5\"\n",
        "\n",
        "# hdf = SD(path, SDC.READ)\n",
        "\n",
        "# # Uncomment to open *filename*  and list available SDS datasets\n",
        "# hdf = SD(filename, SDC.READ)\n",
        "# print (hdf.datasets())\n",
        "\n",
        "# co_meas = GetHDFData(hdf,'CO_VMR_A','CO_VMR_D')"
      ]
    },
    {
      "attachments": {},
      "cell_type": "markdown",
      "metadata": {},
      "source": [
        "### Parte 1\n",
        "\n",
        "Agregam-se os arquivos por mês e geram-se os CSVs. A agregação mensal é feita por conta do projeto MapBiomasAr e pode ser facilmente alterada pelo usuário\n",
        "\n"
      ]
    },
    {
      "cell_type": "code",
      "execution_count": null,
      "metadata": {},
      "outputs": [],
      "source": [
        "# this loop will read all the files in a per month basis and aggregate\n",
        "import glob\n",
        "import time\n",
        "yr = list(range(2015,2021))\n",
        "mon = ['01','02','03','04','05','06',\n",
        "       '07','08','09','10','11','12']\n",
        "# mon = ['07','08', '09']\n",
        "# yr = ['2003','2013']\n",
        "data1 = 'CO_VMR_A'\n",
        "data2 = 'CO_VMR_D'\n",
        "\n",
        "\n",
        "# my_path = 'C:\\\\Users\\\\mteix\\\\Desktop\\\\testData\\\\' #win style needs '\\\\'\n",
        "\n",
        "my_path = '/home/mapbiomasar/Mayra/AIRS/AIRS_L3/CH4_CO_L3_2002_today/'\n",
        "\n",
        "\n",
        "start_time = time.time()\n",
        "# df = pd.DataFrame(columns = ['lat','lon','co_asc','co_desc'])\n",
        "for y in yr:\n",
        "    print('PROCESSING: ', y, ' files')\n",
        "    for m in mon:\n",
        "        path_file = my_path + 'AIRS.' + str(y) + '.'+ m +'.' + '*.hdf'\n",
        "        \n",
        "        # gambi 1: zera o vetor que armazena os valores mensais\n",
        "        # define o novo df que sera exportado\n",
        "        tmp = np.empty([1,4])\n",
        "        tmp[:] = np.nan\n",
        "        df = pd.DataFrame(columns = ['lat','lon','co_asc','co_desc'])\n",
        "        \n",
        "        for filename in glob.glob(path_file):\n",
        "            # print(filename)\n",
        "            try:\n",
        "                hdf = SD(filename, SDC.READ)\n",
        "                co_meas = GetHDFData(hdf,data1,data2)\n",
        "                tmp  = np.vstack([tmp,co_meas])\n",
        "            except:\n",
        "                print(\"Could not open \", filename)\n",
        "                break\n",
        "\n",
        "        # build df with the time information\n",
        "        df2 = pd.DataFrame(tmp,columns = ['lat','lon','co_asc','co_desc'])\n",
        "        df2['time'] = str(y) + '-' + m\n",
        "        df = pd.concat([df,df2])\n",
        "        df = df.dropna()\n",
        "            \n",
        "        # process the monthly files and export to CSV\n",
        "        # (this will avoid python to crash due to memory issues)\n",
        "        df_co = df.groupby(['time','lat','lon']).mean().reset_index()\n",
        "        df_co.to_csv(my_path + 'CO_' + str(y) + '_' + m + '.csv')\n",
        "        df.co = None\n",
        "        \n",
        "print('Processing time:', (time.time()-start_time)/60 , ' min')\n"
      ]
    },
    {
      "cell_type": "code",
      "execution_count": null,
      "metadata": {},
      "outputs": [],
      "source": []
    },
    {
      "attachments": {},
      "cell_type": "markdown",
      "metadata": {},
      "source": [
        "### Parte 2\n",
        "\n",
        "Aqui lemos os CSVs produzidos na parte 1 e os transformamos em *shapefiles*. É mais fácil subir esses arquivos para o GEE que imagens."
      ]
    },
    {
      "cell_type": "code",
      "execution_count": null,
      "metadata": {
        "colab": {
          "base_uri": "https://localhost:8080/"
        },
        "id": "LydcHU46WpWB",
        "outputId": "e3ba07f0-b8a9-4c54-8fad-60f761cc5f4c"
      },
      "outputs": [],
      "source": [
        "# build geopandas dataframes\n",
        "\n",
        "import geopandas as gpd \n",
        "import glob\n",
        "from shapely.geometry import Polygon, Point, MultiPolygon\n",
        "\n",
        "# turn off warnings (should I care for them?)\n",
        "import warnings\n",
        "warnings.simplefilter(action='ignore', category=FutureWarning)\n",
        "\n",
        "# read file from csv to export shapes\n",
        "# IMPORTANT: Use \"\\\\\" to read from a Windows filesystem\n",
        "my_path = 'C:\\\\Users\\\\mteix\\\\Desktop\\\\testData\\\\'\n",
        "\n",
        "# loop to read files\n",
        "for filename in glob.glob(my_path + '/*.csv'):\n",
        "    \n",
        "    # TODO: make a smarter slicing (this is the quick and dirty solution)\n",
        "    my_filename  = filename[-14:]\n",
        "    my_filename = my_filename[:-4]\n",
        "    print('Processing: ' + my_filename)\n",
        "    try:                \n",
        "        df = pd.read_csv(filename)\n",
        "        # drop the 'ghost' column\n",
        "        df.drop('Unnamed: 0', inplace=True, axis=1)\n",
        "        crs = {'init':'EPSG:4326'}\n",
        "        geometry = [Point(xy) for xy in zip(df['lon'], df['lat'])]\n",
        "\n",
        "        points = gpd.GeoDataFrame(df, \n",
        "                                crs = crs, \n",
        "                                geometry = geometry)\n",
        "\n",
        "        # optional: filter to a square covering South America\n",
        "        min_lat = -57.5858\n",
        "        max_lat =  15.5988\n",
        "        min_lon = -85.8360\n",
        "        max_lon = -35.8750\n",
        "\n",
        "        # back to original nomenclature\n",
        "        tmp = points.copy()\n",
        "        lat_filter = (tmp[\"lat\"] >= min_lat) & (tmp[\"lat\"] <= max_lat)\n",
        "        lon_filter = (tmp[\"lon\"] >= min_lon) & (tmp[\"lon\"] <= max_lon)\n",
        "\n",
        "        # tmp = tmp.loc[lat_filter & lon_filter]\n",
        "\n",
        "        points = tmp[lat_filter & lon_filter]\n",
        "\n",
        "        # The value of the buffer should be changed \n",
        "        # according to grid specified in file Metadata\n",
        "        # this example we have a 1 x 1 degree grid\n",
        "        buffers = points.buffer(0.5) \n",
        "        bounds = buffers.bounds\n",
        "\n",
        "        bounds['pixel_area'] = bounds.apply(\n",
        "        lambda obj: Polygon(shell=[\n",
        "            Point(obj['maxx'],obj['miny']),\n",
        "            Point(obj['minx'],obj['miny']),\n",
        "            Point(obj['minx'],obj['maxy']),\n",
        "            Point(obj['maxx'],obj['maxy']),\n",
        "            Point(obj['maxx'],obj['miny']),\n",
        "        ]),\n",
        "        axis=1\n",
        "        )\n",
        "\n",
        "        # adding indexes to merge dataframes\n",
        "        points.insert(0, 'New_ID', range(1, 1 + len(points)))\n",
        "        bounds.insert(0, 'New_ID', range(1, 1 + len(bounds)))\n",
        "\n",
        "        my_merge = bounds.merge(points, on='New_ID')\n",
        "\n",
        "        gdf = my_merge\n",
        "        gdf = gpd.GeoDataFrame(\n",
        "            gdf,\n",
        "            crs = {'init':'EPSG:4326'}, \n",
        "            geometry = [a for a in gdf['pixel_area']]                               \n",
        "            )\n",
        "        gdf = gdf.reset_index()\n",
        "        gdf = gdf.loc[:,gdf.columns.isin(['co_asc','co_desc','geometry'])]\n",
        "        gdf.to_file(my_path + 'shapefiles\\\\' + my_filename + '.shp')\n",
        "\n",
        "    except:\n",
        "        print(\"Could not open \", filename[-14:])\n",
        "        continue\n",
        "\n"
      ]
    },
    {
      "attachments": {},
      "cell_type": "markdown",
      "metadata": {},
      "source": [
        "### Opcional: visualização \n",
        "\n",
        "Depois da conversão para *geodataframe*, use esta área para uma rápida visualização dos dados"
      ]
    },
    {
      "cell_type": "code",
      "execution_count": 16,
      "metadata": {
        "colab": {
          "base_uri": "https://localhost:8080/",
          "height": 462
        },
        "id": "1mipzd5aWpWC",
        "outputId": "ad4a837c-76ad-4d5e-98cc-b3ca1418975c"
      },
      "outputs": [
        {
          "name": "stderr",
          "output_type": "stream",
          "text": [
            "c:\\Users\\mteix\\miniconda3\\envs\\gee\\lib\\site-packages\\pyproj\\crs\\crs.py:130: FutureWarning: '+init=<authority>:<code>' syntax is deprecated. '<authority>:<code>' is the preferred initialization method. When making the change, be mindful of axis order changes: https://pyproj4.github.io/pyproj/stable/gotchas.html#axis-order-changes-in-proj-6\n",
            "  in_crs_string = _prepare_from_proj_string(in_crs_string)\n"
          ]
        },
        {
          "data": {
            "text/plain": [
              "<AxesSubplot:>"
            ]
          },
          "execution_count": 16,
          "metadata": {},
          "output_type": "execute_result"
        },
        {
          "data": {
            "image/png": "[encoded data removed]",
            "text/plain": [
              "<Figure size 1296x504 with 2 Axes>"
            ]
          },
          "metadata": {
            "needs_background": "light"
          },
          "output_type": "display_data"
        }
      ],
      "source": [
        "# testing the view\n",
        "import matplotlib.pyplot as plt\n",
        "\n",
        "world = gpd.read_file(gpd.datasets.get_path('naturalearth_lowres'))\n",
        "\n",
        "fig, ax = plt.subplots(figsize=(18, 7))\n",
        "\n",
        "\n",
        "# ax.set_xlim(178.0, 181.0)\n",
        "# ax.set_ylim(20.0, 23.0)\n",
        "world.plot(ax=ax, alpha=0.8, color='grey')\n",
        "\n",
        "gpd.GeoDataFrame(\n",
        "  my_merge,\n",
        "  crs = crs, \n",
        "  geometry = [a for a in my_merge['pixel_area']]                                \n",
        "  ).plot(column='co_asc', ax=ax, legend=True,alpha = 0.4)\n",
        "\n",
        "plt.title('Visualization test')\n"
      ]
    }
  ],
  "metadata": {
    "colab": {
      "collapsed_sections": [],
      "name": "oco2-L4.ipynb",
      "provenance": []
    },
    "kernelspec": {
      "display_name": "Python 3.9.13 ('geoproc')",
      "language": "python",
      "name": "python3"
    },
    "language_info": {
      "codemirror_mode": {
        "name": "ipython",
        "version": 3
      },
      "file_extension": ".py",
      "mimetype": "text/x-python",
      "name": "python",
      "nbconvert_exporter": "python",
      "pygments_lexer": "ipython3",
      "version": "3.10.10"
    },
    "orig_nbformat": 4,
    "vscode": {
      "interpreter": {
        "hash": "85d1c656cb01c6deceab63fc5a9395e22e95e6a557b568e296407028b767fccd"
      }
    }
  },
  "nbformat": 4,
  "nbformat_minor": 0
}
