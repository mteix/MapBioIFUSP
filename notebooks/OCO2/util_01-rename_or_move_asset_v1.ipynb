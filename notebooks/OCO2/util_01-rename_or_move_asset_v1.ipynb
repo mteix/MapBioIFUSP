{
  "nbformat": 4,
  "nbformat_minor": 0,
  "metadata": {
    "colab": {
      "name": "rename_or_move-asset-v1.ipynb",
      "provenance": [],
      "collapsed_sections": []
    },
    "kernelspec": {
      "name": "python3",
      "display_name": "Python 3"
    },
    "language_info": {
      "name": "python"
    }
  },
  "cells": [
    {
      "cell_type": "code",
      "source": [
        "# importando api earth engine\n",
        "import ee\n",
        "# autorização com login \n",
        "ee.Authenticate()\n",
        "# iniciando a biblioteca\n",
        "ee.Initialize()"
      ],
      "metadata": {
        "colab": {
          "base_uri": "https://localhost:8080/"
        },
        "id": "UfTpDjO_votY",
        "outputId": "a717e82c-8672-4c1a-9c60-52c898614682"
      },
      "execution_count": 2,
      "outputs": [
        {
          "output_type": "stream",
          "name": "stdout",
          "text": [
            "To authorize access needed by Earth Engine, open the following URL in a web browser and follow the instructions. If the web browser does not start automatically, please manually browse the URL below.\n",
            "\n",
            "    https://code.earthengine.google.com/client-auth?scopes=https%3A//www.googleapis.com/auth/earthengine%20https%3A//www.googleapis.com/auth/devstorage.full_control&request_id=ML02nna4ElRe-eydk8z1Wx6tcQ_gju1pzx8Cm8DahyE&tc=OQ-Fd-j_5Oq1EXgIsIeym5dFtQQ2DWZSNscUVfa5DLg&cc=Z2lsiVw4KXsJAj-SHfpmxiAQoU-mt-7vDqc82ZxNEEE\n",
            "\n",
            "The authorization workflow will generate a code, which you should paste in the box below. \n",
            "Enter verification code: 4/1AX4XfWgYIWz-OP4DUncEq6zWHZqKoaTCQu7NFU4N4FQFHe0gPr5NOYHgLzI\n",
            "\n",
            "Successfully saved authorization token.\n"
          ]
        }
      ]
    },
    {
      "cell_type": "code",
      "source": [
        "def get_asset_list(parent):\n",
        "    \n",
        "    parent_asset = ee.data.getAsset(parent)\n",
        "    parent_id = parent_asset['name']\n",
        "    parent_type = parent_asset['type']\n",
        "    asset_list = []\n",
        "    child_assets = ee.data.listAssets({'parent': parent_id})['assets']\n",
        "    \n",
        "    for child_asset in child_assets:\n",
        "        child_id = child_asset['name']\n",
        "        child_type = child_asset['type']\n",
        "        if child_type in ['FOLDER','IMAGE_COLLECTION']:\n",
        "            # Recursively call the function to get child assets\n",
        "            asset_list.extend(get_asset_list(child_id))\n",
        "        else:\n",
        "            asset_list.append(child_id)\n",
        "    return asset_list\n",
        "     \n",
        "all_assets = get_asset_list('projects/mapbiomas-workspace/AR/XCO2')\n",
        "print(all_assets)"
      ],
      "metadata": {
        "id": "HY2va1aIyWg-",
        "colab": {
          "base_uri": "https://localhost:8080/"
        },
        "outputId": "a548d3dd-0cfc-446d-8e5e-71a248c6beb8"
      },
      "execution_count": 4,
      "outputs": [
        {
          "output_type": "stream",
          "name": "stdout",
          "text": [
            "['projects/earthengine-legacy/assets/projects/mapbiomas-workspace/AR/XCO2/2014-09-v1', 'projects/earthengine-legacy/assets/projects/mapbiomas-workspace/AR/XCO2/2014-10-v1', 'projects/earthengine-legacy/assets/projects/mapbiomas-workspace/AR/XCO2/2014-11-v1', 'projects/earthengine-legacy/assets/projects/mapbiomas-workspace/AR/XCO2/2014-12-v1', 'projects/earthengine-legacy/assets/projects/mapbiomas-workspace/AR/XCO2/2015-01-v1', 'projects/earthengine-legacy/assets/projects/mapbiomas-workspace/AR/XCO2/2015-02-v1', 'projects/earthengine-legacy/assets/projects/mapbiomas-workspace/AR/XCO2/2015-03-v1', 'projects/earthengine-legacy/assets/projects/mapbiomas-workspace/AR/XCO2/2015-04-v1', 'projects/earthengine-legacy/assets/projects/mapbiomas-workspace/AR/XCO2/2015-05-v1', 'projects/earthengine-legacy/assets/projects/mapbiomas-workspace/AR/XCO2/2015-06-v1', 'projects/earthengine-legacy/assets/projects/mapbiomas-workspace/AR/XCO2/2015-07-v1', 'projects/earthengine-legacy/assets/projects/mapbiomas-workspace/AR/XCO2/2015-08-v1', 'projects/earthengine-legacy/assets/projects/mapbiomas-workspace/AR/XCO2/2015-09-v1', 'projects/earthengine-legacy/assets/projects/mapbiomas-workspace/AR/XCO2/2015-10-v1', 'projects/earthengine-legacy/assets/projects/mapbiomas-workspace/AR/XCO2/2015-11-v1', 'projects/earthengine-legacy/assets/projects/mapbiomas-workspace/AR/XCO2/2015-12-v1', 'projects/earthengine-legacy/assets/projects/mapbiomas-workspace/AR/XCO2/2016-01-v1', 'projects/earthengine-legacy/assets/projects/mapbiomas-workspace/AR/XCO2/2016-02-v1', 'projects/earthengine-legacy/assets/projects/mapbiomas-workspace/AR/XCO2/2016-03-v1', 'projects/earthengine-legacy/assets/projects/mapbiomas-workspace/AR/XCO2/2016-04-v1', 'projects/earthengine-legacy/assets/projects/mapbiomas-workspace/AR/XCO2/2016-05-v1', 'projects/earthengine-legacy/assets/projects/mapbiomas-workspace/AR/XCO2/2016-06-v1', 'projects/earthengine-legacy/assets/projects/mapbiomas-workspace/AR/XCO2/2016-07-v1', 'projects/earthengine-legacy/assets/projects/mapbiomas-workspace/AR/XCO2/2016-08-v1', 'projects/earthengine-legacy/assets/projects/mapbiomas-workspace/AR/XCO2/2016-09-v1', 'projects/earthengine-legacy/assets/projects/mapbiomas-workspace/AR/XCO2/2016-10-v1', 'projects/earthengine-legacy/assets/projects/mapbiomas-workspace/AR/XCO2/2016-11-v1', 'projects/earthengine-legacy/assets/projects/mapbiomas-workspace/AR/XCO2/2016-12-v1', 'projects/earthengine-legacy/assets/projects/mapbiomas-workspace/AR/XCO2/2017-01-v1', 'projects/earthengine-legacy/assets/projects/mapbiomas-workspace/AR/XCO2/2017-02-v1', 'projects/earthengine-legacy/assets/projects/mapbiomas-workspace/AR/XCO2/2017-03-v1', 'projects/earthengine-legacy/assets/projects/mapbiomas-workspace/AR/XCO2/2017-04-v1', 'projects/earthengine-legacy/assets/projects/mapbiomas-workspace/AR/XCO2/2017-05-v1', 'projects/earthengine-legacy/assets/projects/mapbiomas-workspace/AR/XCO2/2017-06-v1', 'projects/earthengine-legacy/assets/projects/mapbiomas-workspace/AR/XCO2/2017-07-v1', 'projects/earthengine-legacy/assets/projects/mapbiomas-workspace/AR/XCO2/2017-08-v1', 'projects/earthengine-legacy/assets/projects/mapbiomas-workspace/AR/XCO2/2017-09-v1', 'projects/earthengine-legacy/assets/projects/mapbiomas-workspace/AR/XCO2/2017-10-v1', 'projects/earthengine-legacy/assets/projects/mapbiomas-workspace/AR/XCO2/2017-11-v1', 'projects/earthengine-legacy/assets/projects/mapbiomas-workspace/AR/XCO2/2017-12-v1', 'projects/earthengine-legacy/assets/projects/mapbiomas-workspace/AR/XCO2/2018-01-v1', 'projects/earthengine-legacy/assets/projects/mapbiomas-workspace/AR/XCO2/2018-02-v1', 'projects/earthengine-legacy/assets/projects/mapbiomas-workspace/AR/XCO2/2018-03-v1', 'projects/earthengine-legacy/assets/projects/mapbiomas-workspace/AR/XCO2/2018-04-v1', 'projects/earthengine-legacy/assets/projects/mapbiomas-workspace/AR/XCO2/2018-05-v1', 'projects/earthengine-legacy/assets/projects/mapbiomas-workspace/AR/XCO2/2018-06-v1', 'projects/earthengine-legacy/assets/projects/mapbiomas-workspace/AR/XCO2/2018-07-v1', 'projects/earthengine-legacy/assets/projects/mapbiomas-workspace/AR/XCO2/2018-08-v1', 'projects/earthengine-legacy/assets/projects/mapbiomas-workspace/AR/XCO2/2018-09-v1', 'projects/earthengine-legacy/assets/projects/mapbiomas-workspace/AR/XCO2/2018-10-v1', 'projects/earthengine-legacy/assets/projects/mapbiomas-workspace/AR/XCO2/2018-11-v1', 'projects/earthengine-legacy/assets/projects/mapbiomas-workspace/AR/XCO2/2018-12-v1', 'projects/earthengine-legacy/assets/projects/mapbiomas-workspace/AR/XCO2/2019-01-v1', 'projects/earthengine-legacy/assets/projects/mapbiomas-workspace/AR/XCO2/2019-02-v1', 'projects/earthengine-legacy/assets/projects/mapbiomas-workspace/AR/XCO2/2019-03-v1', 'projects/earthengine-legacy/assets/projects/mapbiomas-workspace/AR/XCO2/2019-04-v1', 'projects/earthengine-legacy/assets/projects/mapbiomas-workspace/AR/XCO2/2019-05-v1', 'projects/earthengine-legacy/assets/projects/mapbiomas-workspace/AR/XCO2/2019-06-v1', 'projects/earthengine-legacy/assets/projects/mapbiomas-workspace/AR/XCO2/2019-07-v1', 'projects/earthengine-legacy/assets/projects/mapbiomas-workspace/AR/XCO2/2019-08-v1', 'projects/earthengine-legacy/assets/projects/mapbiomas-workspace/AR/XCO2/2019-09-v1', 'projects/earthengine-legacy/assets/projects/mapbiomas-workspace/AR/XCO2/2019-10-v1', 'projects/earthengine-legacy/assets/projects/mapbiomas-workspace/AR/XCO2/2019-11-v1', 'projects/earthengine-legacy/assets/projects/mapbiomas-workspace/AR/XCO2/2019-12-v1', 'projects/earthengine-legacy/assets/projects/mapbiomas-workspace/AR/XCO2/2020-01-v1', 'projects/earthengine-legacy/assets/projects/mapbiomas-workspace/AR/XCO2/2020-02-v1', 'projects/earthengine-legacy/assets/projects/mapbiomas-workspace/AR/XCO2/2020-03-v1', 'projects/earthengine-legacy/assets/projects/mapbiomas-workspace/AR/XCO2/2020-04-v1', 'projects/earthengine-legacy/assets/projects/mapbiomas-workspace/AR/XCO2/2020-05-v1', 'projects/earthengine-legacy/assets/projects/mapbiomas-workspace/AR/XCO2/2020-06-v1', 'projects/earthengine-legacy/assets/projects/mapbiomas-workspace/AR/XCO2/2020-07-v1', 'projects/earthengine-legacy/assets/projects/mapbiomas-workspace/AR/XCO2/2020-08-v1', 'projects/earthengine-legacy/assets/projects/mapbiomas-workspace/AR/XCO2/2020-09-v1', 'projects/earthengine-legacy/assets/projects/mapbiomas-workspace/AR/XCO2/2020-10-v1', 'projects/earthengine-legacy/assets/projects/mapbiomas-workspace/AR/XCO2/2020-11-v1', 'projects/earthengine-legacy/assets/projects/mapbiomas-workspace/AR/XCO2/2020-12-v1', 'projects/earthengine-legacy/assets/projects/mapbiomas-workspace/AR/XCO2/2021-01-v1', 'projects/earthengine-legacy/assets/projects/mapbiomas-workspace/AR/XCO2/2021-02-v1', 'projects/earthengine-legacy/assets/projects/mapbiomas-workspace/AR/XCO2/2021-03-v1', 'projects/earthengine-legacy/assets/projects/mapbiomas-workspace/AR/XCO2/2021-04-v1', 'projects/earthengine-legacy/assets/projects/mapbiomas-workspace/AR/XCO2/2021-05-v1', 'projects/earthengine-legacy/assets/projects/mapbiomas-workspace/AR/XCO2/2021-06-v1', 'projects/earthengine-legacy/assets/projects/mapbiomas-workspace/AR/XCO2/2021-07-v1']\n"
          ]
        }
      ]
    },
    {
      "cell_type": "code",
      "source": [
        "for asset in all_assets:\n",
        "  # asset = asset.replace('projects/earthengine-legacy/assets/','')\n",
        "  year = asset.split('-')[4]\n",
        "  \n",
        "  \n",
        "  new_asset_name = asset.replace('XCO2','OCO2')\n",
        "  \n",
        "  ee.data.renameAsset(sourceId=asset, destinationId=new_asset_name)\n",
        "  ee.data.setAssetProperties(new_asset_name, {'unit':'XCO2-ppm','satellite':'OCO2'})\n",
        "\n",
        "  print('{0}/{1}  -->  {2}  --> {3}'.format(all_assets.index(asset) + 1,len(all_assets),asset,new_asset_name))\n"
      ],
      "metadata": {
        "id": "-IY3j0edvlfJ",
        "outputId": "f63b0c5d-3ca6-4840-f46c-ea38b2c8a282",
        "colab": {
          "base_uri": "https://localhost:8080/"
        }
      },
      "execution_count": 7,
      "outputs": [
        {
          "output_type": "stream",
          "name": "stdout",
          "text": [
            "1/83  -->  projects/earthengine-legacy/assets/projects/mapbiomas-workspace/AR/XCO2/2014-09-v1  --> projects/earthengine-legacy/assets/projects/mapbiomas-workspace/AR/OCO2/2014-09-v1\n",
            "2/83  -->  projects/earthengine-legacy/assets/projects/mapbiomas-workspace/AR/XCO2/2014-10-v1  --> projects/earthengine-legacy/assets/projects/mapbiomas-workspace/AR/OCO2/2014-10-v1\n",
            "3/83  -->  projects/earthengine-legacy/assets/projects/mapbiomas-workspace/AR/XCO2/2014-11-v1  --> projects/earthengine-legacy/assets/projects/mapbiomas-workspace/AR/OCO2/2014-11-v1\n",
            "4/83  -->  projects/earthengine-legacy/assets/projects/mapbiomas-workspace/AR/XCO2/2014-12-v1  --> projects/earthengine-legacy/assets/projects/mapbiomas-workspace/AR/OCO2/2014-12-v1\n",
            "5/83  -->  projects/earthengine-legacy/assets/projects/mapbiomas-workspace/AR/XCO2/2015-01-v1  --> projects/earthengine-legacy/assets/projects/mapbiomas-workspace/AR/OCO2/2015-01-v1\n",
            "6/83  -->  projects/earthengine-legacy/assets/projects/mapbiomas-workspace/AR/XCO2/2015-02-v1  --> projects/earthengine-legacy/assets/projects/mapbiomas-workspace/AR/OCO2/2015-02-v1\n",
            "7/83  -->  projects/earthengine-legacy/assets/projects/mapbiomas-workspace/AR/XCO2/2015-03-v1  --> projects/earthengine-legacy/assets/projects/mapbiomas-workspace/AR/OCO2/2015-03-v1\n",
            "8/83  -->  projects/earthengine-legacy/assets/projects/mapbiomas-workspace/AR/XCO2/2015-04-v1  --> projects/earthengine-legacy/assets/projects/mapbiomas-workspace/AR/OCO2/2015-04-v1\n",
            "9/83  -->  projects/earthengine-legacy/assets/projects/mapbiomas-workspace/AR/XCO2/2015-05-v1  --> projects/earthengine-legacy/assets/projects/mapbiomas-workspace/AR/OCO2/2015-05-v1\n",
            "10/83  -->  projects/earthengine-legacy/assets/projects/mapbiomas-workspace/AR/XCO2/2015-06-v1  --> projects/earthengine-legacy/assets/projects/mapbiomas-workspace/AR/OCO2/2015-06-v1\n",
            "11/83  -->  projects/earthengine-legacy/assets/projects/mapbiomas-workspace/AR/XCO2/2015-07-v1  --> projects/earthengine-legacy/assets/projects/mapbiomas-workspace/AR/OCO2/2015-07-v1\n",
            "12/83  -->  projects/earthengine-legacy/assets/projects/mapbiomas-workspace/AR/XCO2/2015-08-v1  --> projects/earthengine-legacy/assets/projects/mapbiomas-workspace/AR/OCO2/2015-08-v1\n",
            "13/83  -->  projects/earthengine-legacy/assets/projects/mapbiomas-workspace/AR/XCO2/2015-09-v1  --> projects/earthengine-legacy/assets/projects/mapbiomas-workspace/AR/OCO2/2015-09-v1\n",
            "14/83  -->  projects/earthengine-legacy/assets/projects/mapbiomas-workspace/AR/XCO2/2015-10-v1  --> projects/earthengine-legacy/assets/projects/mapbiomas-workspace/AR/OCO2/2015-10-v1\n",
            "15/83  -->  projects/earthengine-legacy/assets/projects/mapbiomas-workspace/AR/XCO2/2015-11-v1  --> projects/earthengine-legacy/assets/projects/mapbiomas-workspace/AR/OCO2/2015-11-v1\n",
            "16/83  -->  projects/earthengine-legacy/assets/projects/mapbiomas-workspace/AR/XCO2/2015-12-v1  --> projects/earthengine-legacy/assets/projects/mapbiomas-workspace/AR/OCO2/2015-12-v1\n",
            "17/83  -->  projects/earthengine-legacy/assets/projects/mapbiomas-workspace/AR/XCO2/2016-01-v1  --> projects/earthengine-legacy/assets/projects/mapbiomas-workspace/AR/OCO2/2016-01-v1\n",
            "18/83  -->  projects/earthengine-legacy/assets/projects/mapbiomas-workspace/AR/XCO2/2016-02-v1  --> projects/earthengine-legacy/assets/projects/mapbiomas-workspace/AR/OCO2/2016-02-v1\n",
            "19/83  -->  projects/earthengine-legacy/assets/projects/mapbiomas-workspace/AR/XCO2/2016-03-v1  --> projects/earthengine-legacy/assets/projects/mapbiomas-workspace/AR/OCO2/2016-03-v1\n",
            "20/83  -->  projects/earthengine-legacy/assets/projects/mapbiomas-workspace/AR/XCO2/2016-04-v1  --> projects/earthengine-legacy/assets/projects/mapbiomas-workspace/AR/OCO2/2016-04-v1\n",
            "21/83  -->  projects/earthengine-legacy/assets/projects/mapbiomas-workspace/AR/XCO2/2016-05-v1  --> projects/earthengine-legacy/assets/projects/mapbiomas-workspace/AR/OCO2/2016-05-v1\n",
            "22/83  -->  projects/earthengine-legacy/assets/projects/mapbiomas-workspace/AR/XCO2/2016-06-v1  --> projects/earthengine-legacy/assets/projects/mapbiomas-workspace/AR/OCO2/2016-06-v1\n",
            "23/83  -->  projects/earthengine-legacy/assets/projects/mapbiomas-workspace/AR/XCO2/2016-07-v1  --> projects/earthengine-legacy/assets/projects/mapbiomas-workspace/AR/OCO2/2016-07-v1\n",
            "24/83  -->  projects/earthengine-legacy/assets/projects/mapbiomas-workspace/AR/XCO2/2016-08-v1  --> projects/earthengine-legacy/assets/projects/mapbiomas-workspace/AR/OCO2/2016-08-v1\n",
            "25/83  -->  projects/earthengine-legacy/assets/projects/mapbiomas-workspace/AR/XCO2/2016-09-v1  --> projects/earthengine-legacy/assets/projects/mapbiomas-workspace/AR/OCO2/2016-09-v1\n",
            "26/83  -->  projects/earthengine-legacy/assets/projects/mapbiomas-workspace/AR/XCO2/2016-10-v1  --> projects/earthengine-legacy/assets/projects/mapbiomas-workspace/AR/OCO2/2016-10-v1\n",
            "27/83  -->  projects/earthengine-legacy/assets/projects/mapbiomas-workspace/AR/XCO2/2016-11-v1  --> projects/earthengine-legacy/assets/projects/mapbiomas-workspace/AR/OCO2/2016-11-v1\n",
            "28/83  -->  projects/earthengine-legacy/assets/projects/mapbiomas-workspace/AR/XCO2/2016-12-v1  --> projects/earthengine-legacy/assets/projects/mapbiomas-workspace/AR/OCO2/2016-12-v1\n",
            "29/83  -->  projects/earthengine-legacy/assets/projects/mapbiomas-workspace/AR/XCO2/2017-01-v1  --> projects/earthengine-legacy/assets/projects/mapbiomas-workspace/AR/OCO2/2017-01-v1\n",
            "30/83  -->  projects/earthengine-legacy/assets/projects/mapbiomas-workspace/AR/XCO2/2017-02-v1  --> projects/earthengine-legacy/assets/projects/mapbiomas-workspace/AR/OCO2/2017-02-v1\n",
            "31/83  -->  projects/earthengine-legacy/assets/projects/mapbiomas-workspace/AR/XCO2/2017-03-v1  --> projects/earthengine-legacy/assets/projects/mapbiomas-workspace/AR/OCO2/2017-03-v1\n",
            "32/83  -->  projects/earthengine-legacy/assets/projects/mapbiomas-workspace/AR/XCO2/2017-04-v1  --> projects/earthengine-legacy/assets/projects/mapbiomas-workspace/AR/OCO2/2017-04-v1\n",
            "33/83  -->  projects/earthengine-legacy/assets/projects/mapbiomas-workspace/AR/XCO2/2017-05-v1  --> projects/earthengine-legacy/assets/projects/mapbiomas-workspace/AR/OCO2/2017-05-v1\n",
            "34/83  -->  projects/earthengine-legacy/assets/projects/mapbiomas-workspace/AR/XCO2/2017-06-v1  --> projects/earthengine-legacy/assets/projects/mapbiomas-workspace/AR/OCO2/2017-06-v1\n",
            "35/83  -->  projects/earthengine-legacy/assets/projects/mapbiomas-workspace/AR/XCO2/2017-07-v1  --> projects/earthengine-legacy/assets/projects/mapbiomas-workspace/AR/OCO2/2017-07-v1\n",
            "36/83  -->  projects/earthengine-legacy/assets/projects/mapbiomas-workspace/AR/XCO2/2017-08-v1  --> projects/earthengine-legacy/assets/projects/mapbiomas-workspace/AR/OCO2/2017-08-v1\n",
            "37/83  -->  projects/earthengine-legacy/assets/projects/mapbiomas-workspace/AR/XCO2/2017-09-v1  --> projects/earthengine-legacy/assets/projects/mapbiomas-workspace/AR/OCO2/2017-09-v1\n",
            "38/83  -->  projects/earthengine-legacy/assets/projects/mapbiomas-workspace/AR/XCO2/2017-10-v1  --> projects/earthengine-legacy/assets/projects/mapbiomas-workspace/AR/OCO2/2017-10-v1\n",
            "39/83  -->  projects/earthengine-legacy/assets/projects/mapbiomas-workspace/AR/XCO2/2017-11-v1  --> projects/earthengine-legacy/assets/projects/mapbiomas-workspace/AR/OCO2/2017-11-v1\n",
            "40/83  -->  projects/earthengine-legacy/assets/projects/mapbiomas-workspace/AR/XCO2/2017-12-v1  --> projects/earthengine-legacy/assets/projects/mapbiomas-workspace/AR/OCO2/2017-12-v1\n",
            "41/83  -->  projects/earthengine-legacy/assets/projects/mapbiomas-workspace/AR/XCO2/2018-01-v1  --> projects/earthengine-legacy/assets/projects/mapbiomas-workspace/AR/OCO2/2018-01-v1\n",
            "42/83  -->  projects/earthengine-legacy/assets/projects/mapbiomas-workspace/AR/XCO2/2018-02-v1  --> projects/earthengine-legacy/assets/projects/mapbiomas-workspace/AR/OCO2/2018-02-v1\n",
            "43/83  -->  projects/earthengine-legacy/assets/projects/mapbiomas-workspace/AR/XCO2/2018-03-v1  --> projects/earthengine-legacy/assets/projects/mapbiomas-workspace/AR/OCO2/2018-03-v1\n",
            "44/83  -->  projects/earthengine-legacy/assets/projects/mapbiomas-workspace/AR/XCO2/2018-04-v1  --> projects/earthengine-legacy/assets/projects/mapbiomas-workspace/AR/OCO2/2018-04-v1\n",
            "45/83  -->  projects/earthengine-legacy/assets/projects/mapbiomas-workspace/AR/XCO2/2018-05-v1  --> projects/earthengine-legacy/assets/projects/mapbiomas-workspace/AR/OCO2/2018-05-v1\n",
            "46/83  -->  projects/earthengine-legacy/assets/projects/mapbiomas-workspace/AR/XCO2/2018-06-v1  --> projects/earthengine-legacy/assets/projects/mapbiomas-workspace/AR/OCO2/2018-06-v1\n",
            "47/83  -->  projects/earthengine-legacy/assets/projects/mapbiomas-workspace/AR/XCO2/2018-07-v1  --> projects/earthengine-legacy/assets/projects/mapbiomas-workspace/AR/OCO2/2018-07-v1\n",
            "48/83  -->  projects/earthengine-legacy/assets/projects/mapbiomas-workspace/AR/XCO2/2018-08-v1  --> projects/earthengine-legacy/assets/projects/mapbiomas-workspace/AR/OCO2/2018-08-v1\n",
            "49/83  -->  projects/earthengine-legacy/assets/projects/mapbiomas-workspace/AR/XCO2/2018-09-v1  --> projects/earthengine-legacy/assets/projects/mapbiomas-workspace/AR/OCO2/2018-09-v1\n",
            "50/83  -->  projects/earthengine-legacy/assets/projects/mapbiomas-workspace/AR/XCO2/2018-10-v1  --> projects/earthengine-legacy/assets/projects/mapbiomas-workspace/AR/OCO2/2018-10-v1\n",
            "51/83  -->  projects/earthengine-legacy/assets/projects/mapbiomas-workspace/AR/XCO2/2018-11-v1  --> projects/earthengine-legacy/assets/projects/mapbiomas-workspace/AR/OCO2/2018-11-v1\n",
            "52/83  -->  projects/earthengine-legacy/assets/projects/mapbiomas-workspace/AR/XCO2/2018-12-v1  --> projects/earthengine-legacy/assets/projects/mapbiomas-workspace/AR/OCO2/2018-12-v1\n",
            "53/83  -->  projects/earthengine-legacy/assets/projects/mapbiomas-workspace/AR/XCO2/2019-01-v1  --> projects/earthengine-legacy/assets/projects/mapbiomas-workspace/AR/OCO2/2019-01-v1\n",
            "54/83  -->  projects/earthengine-legacy/assets/projects/mapbiomas-workspace/AR/XCO2/2019-02-v1  --> projects/earthengine-legacy/assets/projects/mapbiomas-workspace/AR/OCO2/2019-02-v1\n",
            "55/83  -->  projects/earthengine-legacy/assets/projects/mapbiomas-workspace/AR/XCO2/2019-03-v1  --> projects/earthengine-legacy/assets/projects/mapbiomas-workspace/AR/OCO2/2019-03-v1\n",
            "56/83  -->  projects/earthengine-legacy/assets/projects/mapbiomas-workspace/AR/XCO2/2019-04-v1  --> projects/earthengine-legacy/assets/projects/mapbiomas-workspace/AR/OCO2/2019-04-v1\n",
            "57/83  -->  projects/earthengine-legacy/assets/projects/mapbiomas-workspace/AR/XCO2/2019-05-v1  --> projects/earthengine-legacy/assets/projects/mapbiomas-workspace/AR/OCO2/2019-05-v1\n",
            "58/83  -->  projects/earthengine-legacy/assets/projects/mapbiomas-workspace/AR/XCO2/2019-06-v1  --> projects/earthengine-legacy/assets/projects/mapbiomas-workspace/AR/OCO2/2019-06-v1\n",
            "59/83  -->  projects/earthengine-legacy/assets/projects/mapbiomas-workspace/AR/XCO2/2019-07-v1  --> projects/earthengine-legacy/assets/projects/mapbiomas-workspace/AR/OCO2/2019-07-v1\n",
            "60/83  -->  projects/earthengine-legacy/assets/projects/mapbiomas-workspace/AR/XCO2/2019-08-v1  --> projects/earthengine-legacy/assets/projects/mapbiomas-workspace/AR/OCO2/2019-08-v1\n",
            "61/83  -->  projects/earthengine-legacy/assets/projects/mapbiomas-workspace/AR/XCO2/2019-09-v1  --> projects/earthengine-legacy/assets/projects/mapbiomas-workspace/AR/OCO2/2019-09-v1\n",
            "62/83  -->  projects/earthengine-legacy/assets/projects/mapbiomas-workspace/AR/XCO2/2019-10-v1  --> projects/earthengine-legacy/assets/projects/mapbiomas-workspace/AR/OCO2/2019-10-v1\n",
            "63/83  -->  projects/earthengine-legacy/assets/projects/mapbiomas-workspace/AR/XCO2/2019-11-v1  --> projects/earthengine-legacy/assets/projects/mapbiomas-workspace/AR/OCO2/2019-11-v1\n",
            "64/83  -->  projects/earthengine-legacy/assets/projects/mapbiomas-workspace/AR/XCO2/2019-12-v1  --> projects/earthengine-legacy/assets/projects/mapbiomas-workspace/AR/OCO2/2019-12-v1\n",
            "65/83  -->  projects/earthengine-legacy/assets/projects/mapbiomas-workspace/AR/XCO2/2020-01-v1  --> projects/earthengine-legacy/assets/projects/mapbiomas-workspace/AR/OCO2/2020-01-v1\n",
            "66/83  -->  projects/earthengine-legacy/assets/projects/mapbiomas-workspace/AR/XCO2/2020-02-v1  --> projects/earthengine-legacy/assets/projects/mapbiomas-workspace/AR/OCO2/2020-02-v1\n",
            "67/83  -->  projects/earthengine-legacy/assets/projects/mapbiomas-workspace/AR/XCO2/2020-03-v1  --> projects/earthengine-legacy/assets/projects/mapbiomas-workspace/AR/OCO2/2020-03-v1\n",
            "68/83  -->  projects/earthengine-legacy/assets/projects/mapbiomas-workspace/AR/XCO2/2020-04-v1  --> projects/earthengine-legacy/assets/projects/mapbiomas-workspace/AR/OCO2/2020-04-v1\n",
            "69/83  -->  projects/earthengine-legacy/assets/projects/mapbiomas-workspace/AR/XCO2/2020-05-v1  --> projects/earthengine-legacy/assets/projects/mapbiomas-workspace/AR/OCO2/2020-05-v1\n",
            "70/83  -->  projects/earthengine-legacy/assets/projects/mapbiomas-workspace/AR/XCO2/2020-06-v1  --> projects/earthengine-legacy/assets/projects/mapbiomas-workspace/AR/OCO2/2020-06-v1\n",
            "71/83  -->  projects/earthengine-legacy/assets/projects/mapbiomas-workspace/AR/XCO2/2020-07-v1  --> projects/earthengine-legacy/assets/projects/mapbiomas-workspace/AR/OCO2/2020-07-v1\n",
            "72/83  -->  projects/earthengine-legacy/assets/projects/mapbiomas-workspace/AR/XCO2/2020-08-v1  --> projects/earthengine-legacy/assets/projects/mapbiomas-workspace/AR/OCO2/2020-08-v1\n",
            "73/83  -->  projects/earthengine-legacy/assets/projects/mapbiomas-workspace/AR/XCO2/2020-09-v1  --> projects/earthengine-legacy/assets/projects/mapbiomas-workspace/AR/OCO2/2020-09-v1\n",
            "74/83  -->  projects/earthengine-legacy/assets/projects/mapbiomas-workspace/AR/XCO2/2020-10-v1  --> projects/earthengine-legacy/assets/projects/mapbiomas-workspace/AR/OCO2/2020-10-v1\n",
            "75/83  -->  projects/earthengine-legacy/assets/projects/mapbiomas-workspace/AR/XCO2/2020-11-v1  --> projects/earthengine-legacy/assets/projects/mapbiomas-workspace/AR/OCO2/2020-11-v1\n",
            "76/83  -->  projects/earthengine-legacy/assets/projects/mapbiomas-workspace/AR/XCO2/2020-12-v1  --> projects/earthengine-legacy/assets/projects/mapbiomas-workspace/AR/OCO2/2020-12-v1\n",
            "77/83  -->  projects/earthengine-legacy/assets/projects/mapbiomas-workspace/AR/XCO2/2021-01-v1  --> projects/earthengine-legacy/assets/projects/mapbiomas-workspace/AR/OCO2/2021-01-v1\n",
            "78/83  -->  projects/earthengine-legacy/assets/projects/mapbiomas-workspace/AR/XCO2/2021-02-v1  --> projects/earthengine-legacy/assets/projects/mapbiomas-workspace/AR/OCO2/2021-02-v1\n",
            "79/83  -->  projects/earthengine-legacy/assets/projects/mapbiomas-workspace/AR/XCO2/2021-03-v1  --> projects/earthengine-legacy/assets/projects/mapbiomas-workspace/AR/OCO2/2021-03-v1\n",
            "80/83  -->  projects/earthengine-legacy/assets/projects/mapbiomas-workspace/AR/XCO2/2021-04-v1  --> projects/earthengine-legacy/assets/projects/mapbiomas-workspace/AR/OCO2/2021-04-v1\n",
            "81/83  -->  projects/earthengine-legacy/assets/projects/mapbiomas-workspace/AR/XCO2/2021-05-v1  --> projects/earthengine-legacy/assets/projects/mapbiomas-workspace/AR/OCO2/2021-05-v1\n",
            "82/83  -->  projects/earthengine-legacy/assets/projects/mapbiomas-workspace/AR/XCO2/2021-06-v1  --> projects/earthengine-legacy/assets/projects/mapbiomas-workspace/AR/OCO2/2021-06-v1\n",
            "83/83  -->  projects/earthengine-legacy/assets/projects/mapbiomas-workspace/AR/XCO2/2021-07-v1  --> projects/earthengine-legacy/assets/projects/mapbiomas-workspace/AR/OCO2/2021-07-v1\n"
          ]
        }
      ]
    }
  ]
}
