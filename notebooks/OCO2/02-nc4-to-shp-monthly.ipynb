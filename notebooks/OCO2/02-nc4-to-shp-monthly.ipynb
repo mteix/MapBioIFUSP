{
 "cells": [
  {
   "cell_type": "code",
   "execution_count": null,
   "metadata": {},
   "outputs": [],
   "source": [
    "import pandas as pd\n",
    "import numpy as np\n",
    "\n",
    "import xarray as xr # -> para funcionar é necessario instalar de forma complementar -> pandas -m pip install netCDF4 h5netcdf scipy pydap zarr fsspec cftime rasterio cfgrib pooch \n",
    "\n",
    "import rioxarray as rio\n",
    "import geopandas as gpd\n",
    "\n",
    "import fiona\n",
    "\n",
    "import matplotlib.pyplot as plt\n",
    "from shapely.geometry import Polygon, Point, MultiPolygon\n"
   ]
  },
  {
   "cell_type": "code",
   "execution_count": null,
   "metadata": {},
   "outputs": [],
   "source": [
    "# FUNÇÃO PARA CONVERTER (e salvar) ARQUIVOS .NC4 EM SHAPEFILES \n",
    "def convertion(nc4_list,export_name): \n",
    "  data_frames = []\n",
    "  for obj in nc4_list:\n",
    "    nc_file = xr.open_dataset(obj['address'])\n",
    "\n",
    "    xco2 = nc_file[[\n",
    "      'longitude',\n",
    "      'latitude',\n",
    "      'xco2',\n",
    "      'time',\n",
    "      'vertex_longitude',\n",
    "      'vertex_latitude'\n",
    "    ]]\n",
    "\n",
    "    xco2.rio.set_crs(\"epsg:4326\")\n",
    "\n",
    "    df = xco2.to_dataframe()\n",
    "\n",
    "    df = df.reset_index()\n",
    "\n",
    "    df['vertices'] = df['vertices'].astype(str)\n",
    "\n",
    "    dfp = pd.pivot_table(df,\n",
    "      index=['sounding_id', 'time', 'latitude', 'longitude', 'xco2'],\n",
    "      columns='vertices',\n",
    "      values=['vertex_longitude', 'vertex_latitude']\n",
    "    )\n",
    "\n",
    "    dfp = dfp.reset_index()\n",
    "\n",
    "    dfp.columns = dfp.columns.map('_'.join).str.strip('_')\n",
    "\n",
    "    dfp = dfp.rename(columns={'sounding_id': 'index'})\n",
    "    # dfp.Index()\n",
    "\n",
    "    dfp['time'] = dfp['time'].astype(str)\n",
    "    dfp['year'] = obj['year']\n",
    "    dfp['month'] = obj['month']\n",
    "    dfp['day'] = dfp['time'][0].split(' ')[0].split('-')[2]\n",
    "    dfp['id_shape'] = nc4_list.index(obj)\n",
    "\n",
    "    dfp['geometry'] = dfp.apply(\n",
    "        lambda s: Polygon(shell=[\n",
    "            Point(s.vertex_longitude_1, s.vertex_latitude_1),\n",
    "            Point(s.vertex_longitude_2, s.vertex_latitude_2),\n",
    "            Point(s.vertex_longitude_3, s.vertex_latitude_3),\n",
    "            Point(s.vertex_longitude_4, s.vertex_latitude_4),\n",
    "            Point(s.vertex_longitude_1, s.vertex_latitude_1)\n",
    "        ]),\n",
    "        axis=1\n",
    "    )\n",
    "  \n",
    "    dfp.pop('vertex_longitude_1')\n",
    "    dfp.pop('vertex_longitude_2')\n",
    "    dfp.pop('vertex_longitude_3')\n",
    "    dfp.pop('vertex_longitude_4')\n",
    "    dfp.pop('vertex_latitude_1')\n",
    "    dfp.pop('vertex_latitude_2')\n",
    "    dfp.pop('vertex_latitude_3')\n",
    "    dfp.pop('vertex_latitude_4')\n",
    "    dfp.pop('longitude')\n",
    "    dfp.pop('latitude')\n",
    "  \n",
    "    gdf = gpd.GeoDataFrame(dfp, geometry=\"geometry\", crs=\"EPSG:4326\")\n",
    "    \n",
    "    gdf['area'] = gdf['geometry'].area/ 10**6\n",
    "    address = 'shps-v1/{0}-{1}-{2}-v0.shp'.format(export_name,dfp['time'][0].split(' ')[0].split('-')[2],nc4_list.index(obj))\n",
    "\n",
    "    gdf.to_file(address)  \n",
    "  "
   ]
  },
  {
   "cell_type": "code",
   "execution_count": null,
   "metadata": {},
   "outputs": [
    {
     "data": {
      "text/plain": [
       "2066"
      ]
     },
     "execution_count": 27,
     "metadata": {},
     "output_type": "execute_result"
    }
   ],
   "source": [
    "address = 'C:/Users/wallace.silva/Desktop/workspace/mapbiomas-air/data/nc4s-v1'\n",
    "nc4_files = os.listdir(address)\n",
    "\n",
    "len(nc4_files)"
   ]
  },
  {
   "cell_type": "code",
   "execution_count": null,
   "metadata": {},
   "outputs": [],
   "source": [
    "#  ORGANIZANDO A LISTA DE STRINGS EM LISTA OBJETOS\n",
    "month_to_number = {\n",
    "    'janeiro':'01',\n",
    "    'fevereiro':'02',\n",
    "    'marco':'03',\n",
    "    'abril':'04',\n",
    "    'maio':'05',\n",
    "    'junho':'06',\n",
    "    'julho':'07',\n",
    "    'agosto':'08',\n",
    "    'setembro':'09',\n",
    "    'outubro':'10',\n",
    "    'novembro':'11',\n",
    "    'dezembro':'12',\n",
    "}\n",
    "\n",
    "obj_list = []\n",
    "\n",
    "for file in nc4_files:\n",
    "    split = file.split('_')\n",
    "    month_str = split[2].replace('-oco2','')\n",
    "    obj = {\n",
    "        'year':split[1],\n",
    "        'month_str':month_str,\n",
    "        'month':month_to_number[month_str],\n",
    "        'address':address + '/' + file\n",
    "    }\n",
    "\n",
    "    obj_list.append(obj)\n",
    "\n"
   ]
  },
  {
   "cell_type": "code",
   "execution_count": 32,
   "metadata": {},
   "outputs": [
    {
     "name": "stdout",
     "output_type": "stream",
     "text": [
      "['2020']\n",
      "start process\n",
      "INFO: 2020-05   ->   years: 1/1    months: 1/8\n"
     ]
    }
   ],
   "source": [
    "# ESQUEMATIZANDO OS LOOPS PARA AGREGAR SHAPEFILES MENSAIS\n",
    "# lista com todos os anos \n",
    "years = [obj['year'] for obj in obj_list]\n",
    "years =  sorted(list(set(years)))\n",
    "years = [\n",
    "'2020',\n",
    "# '2021'\n",
    "]\n",
    "# print(type(years),years)\n",
    "# years = years[3:5]\n",
    "print(years)\n",
    "print('start process')\n",
    "for year in years:\n",
    "    year_filter = lambda x: x[\"year\"] == year\n",
    "    year_list = list(filter(year_filter,obj_list))\n",
    "    \n",
    "    months = [obj['month'] for obj in year_list]\n",
    "    months = sorted(list(set(months)))\n",
    "    months = ['05','06','07','08','09','10','11','12']\n",
    "    for month in months:\n",
    "        print('INFO: {0}-{1}   ->   years: {2}/{3}    months: {4}/{5}'.format(year,month,years.index(year) + 1,len(years),months.index(month) + 1,len(months)))\n",
    "        month_filter = lambda x: x[\"month\"] == month\n",
    "        month_list = list(filter(month_filter,year_list))\n",
    "        convertion(month_list,'oco2-ppm-{0}-{1}'.format(year,month))\n",
    "print('concluido')"
   ]
  },
  {
   "cell_type": "code",
   "execution_count": null,
   "metadata": {},
   "outputs": [],
   "source": []
  }
 ],
 "metadata": {
  "interpreter": {
   "hash": "916dbcbb3f70747c44a77c7bcd40155683ae19c65e1c03b4aa3499c5328201f1"
  },
  "kernelspec": {
   "display_name": "Python 3",
   "language": "python",
   "name": "python3"
  },
  "language_info": {
   "codemirror_mode": {
    "name": "ipython",
    "version": 3
   },
   "file_extension": ".py",
   "mimetype": "text/x-python",
   "name": "python",
   "nbconvert_exporter": "python",
   "pygments_lexer": "ipython3",
   "version": "3.9.1"
  }
 },
 "nbformat": 4,
 "nbformat_minor": 2
}
