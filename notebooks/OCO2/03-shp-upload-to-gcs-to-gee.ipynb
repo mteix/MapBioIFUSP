{
 "cells": [
  {
   "cell_type": "code",
   "execution_count": 2,
   "metadata": {},
   "outputs": [
    {
     "data": {
      "text/plain": [
       "10185"
      ]
     },
     "execution_count": 2,
     "metadata": {},
     "output_type": "execute_result"
    }
   ],
   "source": [
    "import os\n",
    "address = 'C:/Users/wallace.silva/Desktop/workspace/mapbiomas-air/notebooks/shps-v1'\n",
    "files = os.listdir(address)\n",
    "\n",
    "len(files)"
   ]
  },
  {
   "cell_type": "code",
   "execution_count": null,
   "metadata": {},
   "outputs": [],
   "source": [
    "years = [\n",
    "    # '2014',\n",
    "    # '2015',\n",
    "    #  '2018',7\n",
    "    # '2016', \n",
    "    # '2017', \n",
    "    # '2019',\n",
    "    '2020',\n",
    "    # '2021'\n",
    "]\n",
    "\n",
    "months = [\n",
    "   '01','02','03','04','05','06','07','08','09','10','11','12'\n",
    "]\n",
    "for month in months:\n",
    "    for year in years:\n",
    "        year_filter = lambda x: x.find(year+'-'+month) >= 0\n",
    "        upload_files = list(filter(year_filter,files))\n",
    "        address_gcs = 'gs://shared-development-storage/AUXILIARES/MAPBIOMAS-AR/OCO2/SHPS-V0'\n",
    "\n",
    "        for upload in upload_files:\n",
    "            cmd = 'gsutil cp {0}/{1} {2}/{1}'.format(address,upload, address_gcs)\n",
    "            os.system(cmd)\n",
    "            print('INFO: {0} - {1}/{2}   --> {3}'.format(year,upload_files.index(upload) + 1,len(upload_files),upload))\n",
    "            "
   ]
  }
 ],
 "metadata": {
  "interpreter": {
   "hash": "6a129bd3a9a2d8eb797c2b49067d97b0404be635db64fb008709d1b16b12c9e4"
  },
  "kernelspec": {
   "display_name": "Python 3.9.1 ('venv': venv)",
   "language": "python",
   "name": "python3"
  },
  "language_info": {
   "codemirror_mode": {
    "name": "ipython",
    "version": 3
   },
   "file_extension": ".py",
   "mimetype": "text/x-python",
   "name": "python",
   "nbconvert_exporter": "python",
   "pygments_lexer": "ipython3",
   "version": "3.9.1"
  },
  "orig_nbformat": 4
 },
 "nbformat": 4,
 "nbformat_minor": 2
}
