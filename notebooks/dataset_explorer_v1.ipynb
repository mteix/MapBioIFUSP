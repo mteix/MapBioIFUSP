{
  "cells": [
    {
      "cell_type": "code",
      "execution_count": 1,
      "metadata": {
        "colab": {
          "base_uri": "https://localhost:8080/"
        },
        "id": "KJdcnSLOTcGw",
        "outputId": "4b765f52-2e10-49ff-f97d-bec014a61ca2"
      },
      "outputs": [
        {
          "output_type": "stream",
          "name": "stdout",
          "text": [
            "Drive already mounted at /content/drive; to attempt to forcibly remount, call drive.mount(\"/content/drive\", force_remount=True).\n"
          ]
        }
      ],
      "source": [
        "# CONECTANDO AO GOOGLE DRIVE (GD)\n",
        "from google.colab import drive\n",
        "\n",
        "drive.mount('/content/drive')\n",
        "\n",
        "gd_folder = '/content/drive/MyDrive/xco2_2020_julho/'"
      ]
    },
    {
      "cell_type": "code",
      "source": [
        "# CONECTANDO AO GOOGLE CLOUD STORAGE (GCS)\n",
        "PROJECT = 'mapbiomas'\n",
        "\n",
        "from google.colab import auth\n",
        "auth.authenticate_user()\n",
        "\n",
        "!gcloud config set project {PROJECT}\n",
        "\n",
        "gcs_folder = 'gs://shared-development-storage/AUXILIARES/MAPBIOMAS-AR/OCO2/'"
      ],
      "metadata": {
        "colab": {
          "base_uri": "https://localhost:8080/"
        },
        "id": "bMawfdseuAeQ",
        "outputId": "92326af4-4fa2-4fee-fb5e-255d5cc27d64"
      },
      "execution_count": 14,
      "outputs": [
        {
          "output_type": "stream",
          "name": "stdout",
          "text": [
            "Updated property [core/project].\n"
          ]
        }
      ]
    },
    {
      "cell_type": "code",
      "source": [
        "# CONECTANDO AO GOOGLE EARTH ENGINE (GEE)\n",
        "import ee\n",
        "ee.Authenticate()\n",
        "ee.Initialize()"
      ],
      "metadata": {
        "colab": {
          "base_uri": "https://localhost:8080/"
        },
        "id": "xQ2c4BcY5_qW",
        "outputId": "885b7ff9-4853-4e14-c6c3-6b681297dee9"
      },
      "execution_count": 3,
      "outputs": [
        {
          "output_type": "stream",
          "name": "stdout",
          "text": [
            "To authorize access needed by Earth Engine, open the following URL in a web browser and follow the instructions. If the web browser does not start automatically, please manually browse the URL below.\n",
            "\n",
            "    https://code.earthengine.google.com/client-auth?scopes=https%3A//www.googleapis.com/auth/earthengine%20https%3A//www.googleapis.com/auth/devstorage.full_control&request_id=PofoMpO7n_GltpjNE4y7yYrmia7D95Yg_nzQY0yf7tY&tc=8ORMRVUSr_j16dSbEk--GEw0FUVSMr95OJeSc73Nz2I&cc=NsLvvZQQFhxPU0hVBeb1_L5QMH2S29BKvToqw0-RlGE\n",
            "\n",
            "The authorization workflow will generate a code, which you should paste in the box below. \n",
            "Enter verification code: 4/1AX4XfWgugSE20Fyrb0tShradU_WSYDV5EGfjfpga36vt7Houln-rcTqpn9g\n",
            "\n",
            "Successfully saved authorization token.\n"
          ]
        }
      ]
    },
    {
      "cell_type": "code",
      "source": [
        "#  INSTALANDO BIBLIOTECAS INEXISTENTES NO GOOGLE COLLAB (GC)\n",
        "!pip install rioxarray\n",
        "!pip install geopandas"
      ],
      "metadata": {
        "colab": {
          "base_uri": "https://localhost:8080/"
        },
        "id": "vQu689cYpFdA",
        "outputId": "4f2ab29c-8e30-4b98-a0eb-763ed4a7e243"
      },
      "execution_count": 4,
      "outputs": [
        {
          "output_type": "stream",
          "name": "stdout",
          "text": [
            "Requirement already satisfied: rioxarray in /usr/local/lib/python3.7/dist-packages (0.9.1)\n",
            "Requirement already satisfied: rasterio in /usr/local/lib/python3.7/dist-packages (from rioxarray) (1.2.10)\n",
            "Requirement already satisfied: packaging in /usr/local/lib/python3.7/dist-packages (from rioxarray) (21.3)\n",
            "Requirement already satisfied: pyproj>=2.2 in /usr/local/lib/python3.7/dist-packages (from rioxarray) (3.2.1)\n",
            "Requirement already satisfied: xarray>=0.17 in /usr/local/lib/python3.7/dist-packages (from rioxarray) (0.18.2)\n",
            "Requirement already satisfied: certifi in /usr/local/lib/python3.7/dist-packages (from pyproj>=2.2->rioxarray) (2021.10.8)\n",
            "Requirement already satisfied: setuptools>=40.4 in /usr/local/lib/python3.7/dist-packages (from xarray>=0.17->rioxarray) (57.4.0)\n",
            "Requirement already satisfied: pandas>=1.0 in /usr/local/lib/python3.7/dist-packages (from xarray>=0.17->rioxarray) (1.3.5)\n",
            "Requirement already satisfied: numpy>=1.17 in /usr/local/lib/python3.7/dist-packages (from xarray>=0.17->rioxarray) (1.21.6)\n",
            "Requirement already satisfied: pytz>=2017.3 in /usr/local/lib/python3.7/dist-packages (from pandas>=1.0->xarray>=0.17->rioxarray) (2022.1)\n",
            "Requirement already satisfied: python-dateutil>=2.7.3 in /usr/local/lib/python3.7/dist-packages (from pandas>=1.0->xarray>=0.17->rioxarray) (2.8.2)\n",
            "Requirement already satisfied: six>=1.5 in /usr/local/lib/python3.7/dist-packages (from python-dateutil>=2.7.3->pandas>=1.0->xarray>=0.17->rioxarray) (1.15.0)\n",
            "Requirement already satisfied: pyparsing!=3.0.5,>=2.0.2 in /usr/local/lib/python3.7/dist-packages (from packaging->rioxarray) (3.0.8)\n",
            "Requirement already satisfied: click>=4.0 in /usr/local/lib/python3.7/dist-packages (from rasterio->rioxarray) (7.1.2)\n",
            "Requirement already satisfied: affine in /usr/local/lib/python3.7/dist-packages (from rasterio->rioxarray) (2.3.1)\n",
            "Requirement already satisfied: cligj>=0.5 in /usr/local/lib/python3.7/dist-packages (from rasterio->rioxarray) (0.7.2)\n",
            "Requirement already satisfied: click-plugins in /usr/local/lib/python3.7/dist-packages (from rasterio->rioxarray) (1.1.1)\n",
            "Requirement already satisfied: attrs in /usr/local/lib/python3.7/dist-packages (from rasterio->rioxarray) (21.4.0)\n",
            "Requirement already satisfied: snuggs>=1.4.1 in /usr/local/lib/python3.7/dist-packages (from rasterio->rioxarray) (1.4.7)\n",
            "Requirement already satisfied: geopandas in /usr/local/lib/python3.7/dist-packages (0.10.2)\n",
            "Requirement already satisfied: shapely>=1.6 in /usr/local/lib/python3.7/dist-packages (from geopandas) (1.8.1.post1)\n",
            "Requirement already satisfied: fiona>=1.8 in /usr/local/lib/python3.7/dist-packages (from geopandas) (1.8.21)\n",
            "Requirement already satisfied: pandas>=0.25.0 in /usr/local/lib/python3.7/dist-packages (from geopandas) (1.3.5)\n",
            "Requirement already satisfied: pyproj>=2.2.0 in /usr/local/lib/python3.7/dist-packages (from geopandas) (3.2.1)\n",
            "Requirement already satisfied: click-plugins>=1.0 in /usr/local/lib/python3.7/dist-packages (from fiona>=1.8->geopandas) (1.1.1)\n",
            "Requirement already satisfied: cligj>=0.5 in /usr/local/lib/python3.7/dist-packages (from fiona>=1.8->geopandas) (0.7.2)\n",
            "Requirement already satisfied: setuptools in /usr/local/lib/python3.7/dist-packages (from fiona>=1.8->geopandas) (57.4.0)\n",
            "Requirement already satisfied: munch in /usr/local/lib/python3.7/dist-packages (from fiona>=1.8->geopandas) (2.5.0)\n",
            "Requirement already satisfied: six>=1.7 in /usr/local/lib/python3.7/dist-packages (from fiona>=1.8->geopandas) (1.15.0)\n",
            "Requirement already satisfied: certifi in /usr/local/lib/python3.7/dist-packages (from fiona>=1.8->geopandas) (2021.10.8)\n",
            "Requirement already satisfied: click>=4.0 in /usr/local/lib/python3.7/dist-packages (from fiona>=1.8->geopandas) (7.1.2)\n",
            "Requirement already satisfied: attrs>=17 in /usr/local/lib/python3.7/dist-packages (from fiona>=1.8->geopandas) (21.4.0)\n",
            "Requirement already satisfied: numpy>=1.17.3 in /usr/local/lib/python3.7/dist-packages (from pandas>=0.25.0->geopandas) (1.21.6)\n",
            "Requirement already satisfied: pytz>=2017.3 in /usr/local/lib/python3.7/dist-packages (from pandas>=0.25.0->geopandas) (2022.1)\n",
            "Requirement already satisfied: python-dateutil>=2.7.3 in /usr/local/lib/python3.7/dist-packages (from pandas>=0.25.0->geopandas) (2.8.2)\n"
          ]
        }
      ]
    },
    {
      "cell_type": "code",
      "execution_count": 5,
      "metadata": {
        "id": "-IY3j0edvlfJ"
      },
      "outputs": [],
      "source": [
        "# IMPORTANDO BIBLIOTECAS\n",
        "import xarray as xr\n",
        "import rioxarray as rio\n",
        "import geopandas as gpd\n",
        "import pandas as pd\n",
        "import os\n",
        "import numpy as np\n",
        "from osgeo import gdal\n",
        "import matplotlib.pyplot as plt\n",
        "from shapely.geometry import Polygon, Point, MultiPolygon"
      ]
    },
    {
      "cell_type": "code",
      "execution_count": 16,
      "metadata": {
        "colab": {
          "base_uri": "https://localhost:8080/"
        },
        "id": "0FRynV0mTgvM",
        "outputId": "1755975d-a3be-4c2a-863c-c0aefb96a51e"
      },
      "outputs": [
        {
          "output_type": "execute_result",
          "data": {
            "text/plain": [
              "['oco2_LtCO2_200728_B10206Ar_210920055619s.nc4',\n",
              " 'oco2_LtCO2_200726_B10206Ar_210920055119s.nc4',\n",
              " 'oco2_LtCO2_200725_B10206Ar_210920054827s.nc4',\n",
              " 'oco2_LtCO2_200724_B10206Ar_210920054645s.nc4',\n",
              " 'oco2_LtCO2_200723_B10206Ar_210920054327s.nc4',\n",
              " 'oco2_LtCO2_200722_B10206Ar_210920054144s.nc4',\n",
              " 'oco2_LtCO2_200720_B10206Ar_210920053632s.nc4',\n",
              " 'oco2_LtCO2_200719_B10206Ar_210920053239s.nc4',\n",
              " 'oco2_LtCO2_200718_B10206Ar_210920053127s.nc4',\n",
              " 'oco2_LtCO2_200717_B10206Ar_210920052736s.nc4',\n",
              " 'oco2_LtCO2_200716_B10206Ar_210920052633s.nc4',\n",
              " 'oco2_LtCO2_200714_B10206Ar_210920052242s.nc4',\n",
              " 'oco2_LtCO2_200713_B10206Ar_210920051846s.nc4',\n",
              " 'oco2_LtCO2_200711_B10206Ar_210920051358s.nc4',\n",
              " 'oco2_LtCO2_200709_B10206Ar_210920050853s.nc4',\n",
              " 'oco2_LtCO2_200708_B10206Ar_210920050824s.nc4',\n",
              " 'oco2_LtCO2_200706_B10206Ar_210920050303s.nc4',\n",
              " 'oco2_LtCO2_200704_B10206Ar_210920045830s.nc4',\n",
              " 'oco2_LtCO2_200703_B10206Ar_210920045226s.nc4',\n",
              " 'oco2_LtCO2_200702_B10206Ar_210920045208s.nc4',\n",
              " 'oco2_LtCO2_200701_B10206Ar_210920044735s.nc4']"
            ]
          },
          "metadata": {},
          "execution_count": 16
        }
      ],
      "source": [
        "# CONSULTANDO ENDEREÇO DOS ARQUIVOS \".nc4\" NA PASTA DO GD\n",
        "nc4s_files = os.listdir(gd_folder)\n",
        "nc4s_files = list(filter(lambda f: f.find(\".nc4\") >= 0, nc4s_files))[2:]\n",
        "\n",
        "nc4s_files"
      ]
    },
    {
      "cell_type": "code",
      "execution_count": null,
      "metadata": {
        "colab": {
          "base_uri": "https://localhost:8080/"
        },
        "id": "8FoiQYt-T1yW",
        "outputId": "f6338083-3f6d-41fa-edcc-9af47a88110a"
      },
      "outputs": [
        {
          "output_type": "stream",
          "name": "stdout",
          "text": [
            "loop start\n"
          ]
        },
        {
          "output_type": "stream",
          "name": "stderr",
          "text": [
            "/usr/local/lib/python3.7/dist-packages/ipykernel_launcher.py:58: UserWarning: Geometry is in a geographic CRS. Results from 'area' are likely incorrect. Use 'GeoSeries.to_crs()' to re-project geometries to a projected CRS before this operation.\n",
            "\n",
            "/usr/local/lib/python3.7/dist-packages/ipykernel_launcher.py:63: UserWarning: Column names longer than 10 characters will be truncated when saved to ESRI Shapefile.\n"
          ]
        },
        {
          "output_type": "stream",
          "name": "stdout",
          "text": [
            "nc4 file:  oco2_LtCO2_200728_B10206Ar_210920055619s.nc4  -  1  de  21\n"
          ]
        },
        {
          "output_type": "stream",
          "name": "stderr",
          "text": [
            "/usr/local/lib/python3.7/dist-packages/ipykernel_launcher.py:58: UserWarning: Geometry is in a geographic CRS. Results from 'area' are likely incorrect. Use 'GeoSeries.to_crs()' to re-project geometries to a projected CRS before this operation.\n",
            "\n",
            "/usr/local/lib/python3.7/dist-packages/ipykernel_launcher.py:63: UserWarning: Column names longer than 10 characters will be truncated when saved to ESRI Shapefile.\n"
          ]
        },
        {
          "output_type": "stream",
          "name": "stdout",
          "text": [
            "nc4 file:  oco2_LtCO2_200726_B10206Ar_210920055119s.nc4  -  2  de  21\n"
          ]
        },
        {
          "output_type": "stream",
          "name": "stderr",
          "text": [
            "/usr/local/lib/python3.7/dist-packages/ipykernel_launcher.py:58: UserWarning: Geometry is in a geographic CRS. Results from 'area' are likely incorrect. Use 'GeoSeries.to_crs()' to re-project geometries to a projected CRS before this operation.\n",
            "\n",
            "/usr/local/lib/python3.7/dist-packages/ipykernel_launcher.py:63: UserWarning: Column names longer than 10 characters will be truncated when saved to ESRI Shapefile.\n"
          ]
        },
        {
          "output_type": "stream",
          "name": "stdout",
          "text": [
            "nc4 file:  oco2_LtCO2_200725_B10206Ar_210920054827s.nc4  -  3  de  21\n"
          ]
        },
        {
          "output_type": "stream",
          "name": "stderr",
          "text": [
            "/usr/local/lib/python3.7/dist-packages/ipykernel_launcher.py:58: UserWarning: Geometry is in a geographic CRS. Results from 'area' are likely incorrect. Use 'GeoSeries.to_crs()' to re-project geometries to a projected CRS before this operation.\n",
            "\n",
            "/usr/local/lib/python3.7/dist-packages/ipykernel_launcher.py:63: UserWarning: Column names longer than 10 characters will be truncated when saved to ESRI Shapefile.\n"
          ]
        },
        {
          "output_type": "stream",
          "name": "stdout",
          "text": [
            "nc4 file:  oco2_LtCO2_200724_B10206Ar_210920054645s.nc4  -  4  de  21\n"
          ]
        },
        {
          "output_type": "stream",
          "name": "stderr",
          "text": [
            "/usr/local/lib/python3.7/dist-packages/ipykernel_launcher.py:58: UserWarning: Geometry is in a geographic CRS. Results from 'area' are likely incorrect. Use 'GeoSeries.to_crs()' to re-project geometries to a projected CRS before this operation.\n",
            "\n",
            "/usr/local/lib/python3.7/dist-packages/ipykernel_launcher.py:63: UserWarning: Column names longer than 10 characters will be truncated when saved to ESRI Shapefile.\n"
          ]
        },
        {
          "output_type": "stream",
          "name": "stdout",
          "text": [
            "nc4 file:  oco2_LtCO2_200723_B10206Ar_210920054327s.nc4  -  5  de  21\n"
          ]
        },
        {
          "output_type": "stream",
          "name": "stderr",
          "text": [
            "/usr/local/lib/python3.7/dist-packages/ipykernel_launcher.py:58: UserWarning: Geometry is in a geographic CRS. Results from 'area' are likely incorrect. Use 'GeoSeries.to_crs()' to re-project geometries to a projected CRS before this operation.\n",
            "\n",
            "/usr/local/lib/python3.7/dist-packages/ipykernel_launcher.py:63: UserWarning: Column names longer than 10 characters will be truncated when saved to ESRI Shapefile.\n"
          ]
        },
        {
          "output_type": "stream",
          "name": "stdout",
          "text": [
            "nc4 file:  oco2_LtCO2_200722_B10206Ar_210920054144s.nc4  -  6  de  21\n"
          ]
        },
        {
          "output_type": "stream",
          "name": "stderr",
          "text": [
            "/usr/local/lib/python3.7/dist-packages/ipykernel_launcher.py:58: UserWarning: Geometry is in a geographic CRS. Results from 'area' are likely incorrect. Use 'GeoSeries.to_crs()' to re-project geometries to a projected CRS before this operation.\n",
            "\n",
            "/usr/local/lib/python3.7/dist-packages/ipykernel_launcher.py:63: UserWarning: Column names longer than 10 characters will be truncated when saved to ESRI Shapefile.\n"
          ]
        },
        {
          "output_type": "stream",
          "name": "stdout",
          "text": [
            "nc4 file:  oco2_LtCO2_200720_B10206Ar_210920053632s.nc4  -  7  de  21\n"
          ]
        },
        {
          "output_type": "stream",
          "name": "stderr",
          "text": [
            "/usr/local/lib/python3.7/dist-packages/ipykernel_launcher.py:58: UserWarning: Geometry is in a geographic CRS. Results from 'area' are likely incorrect. Use 'GeoSeries.to_crs()' to re-project geometries to a projected CRS before this operation.\n",
            "\n",
            "/usr/local/lib/python3.7/dist-packages/ipykernel_launcher.py:63: UserWarning: Column names longer than 10 characters will be truncated when saved to ESRI Shapefile.\n"
          ]
        },
        {
          "output_type": "stream",
          "name": "stdout",
          "text": [
            "nc4 file:  oco2_LtCO2_200719_B10206Ar_210920053239s.nc4  -  8  de  21\n"
          ]
        },
        {
          "output_type": "stream",
          "name": "stderr",
          "text": [
            "/usr/local/lib/python3.7/dist-packages/ipykernel_launcher.py:58: UserWarning: Geometry is in a geographic CRS. Results from 'area' are likely incorrect. Use 'GeoSeries.to_crs()' to re-project geometries to a projected CRS before this operation.\n",
            "\n",
            "/usr/local/lib/python3.7/dist-packages/ipykernel_launcher.py:63: UserWarning: Column names longer than 10 characters will be truncated when saved to ESRI Shapefile.\n"
          ]
        },
        {
          "output_type": "stream",
          "name": "stdout",
          "text": [
            "nc4 file:  oco2_LtCO2_200718_B10206Ar_210920053127s.nc4  -  9  de  21\n"
          ]
        },
        {
          "output_type": "stream",
          "name": "stderr",
          "text": [
            "/usr/local/lib/python3.7/dist-packages/ipykernel_launcher.py:58: UserWarning: Geometry is in a geographic CRS. Results from 'area' are likely incorrect. Use 'GeoSeries.to_crs()' to re-project geometries to a projected CRS before this operation.\n",
            "\n",
            "/usr/local/lib/python3.7/dist-packages/ipykernel_launcher.py:63: UserWarning: Column names longer than 10 characters will be truncated when saved to ESRI Shapefile.\n"
          ]
        }
      ],
      "source": [
        "# LOOP DE CONVERSÃO DOS ARQUIVOS .NC4 EM SHAPEFILE E UPLOAD PARA O GEE PASSANDO PELO GCS\n",
        "print('loop start')\n",
        "for filename in nc4s_files:\n",
        "\n",
        "  nc_file = xr.open_dataset(gd_folder + filename)\n",
        "  xco2 = nc_file[[\n",
        "    'longitude',\n",
        "    'latitude',\n",
        "    'xco2',\n",
        "    'time',\n",
        "    'vertex_longitude',\n",
        "    'vertex_latitude'\n",
        "  ]]\n",
        "\n",
        "  xco2.rio.set_crs(\"epsg:4326\")\n",
        "\n",
        "  df = xco2.to_dataframe()\n",
        "\n",
        "  df = df.reset_index()\n",
        "\n",
        "  df['vertices'] = df['vertices'].astype(str)\n",
        "\n",
        "  dfp = pd.pivot_table(df,\n",
        "                     index=['sounding_id', 'time', 'latitude', 'longitude', 'xco2'],\n",
        "                     columns='vertices',\n",
        "                     values=['vertex_longitude', 'vertex_latitude'])\n",
        "\n",
        "  dfp = dfp.reset_index()\n",
        "\n",
        "  dfp.columns = dfp.columns.map('_'.join).str.strip('_')\n",
        "\n",
        "  dfp['geometry'] = dfp.apply(\n",
        "      lambda s: Polygon(shell=[\n",
        "          Point(s.vertex_longitude_1, s.vertex_latitude_1),\n",
        "          Point(s.vertex_longitude_2, s.vertex_latitude_2),\n",
        "          Point(s.vertex_longitude_3, s.vertex_latitude_3),\n",
        "          Point(s.vertex_longitude_4, s.vertex_latitude_4),\n",
        "          Point(s.vertex_longitude_1, s.vertex_latitude_1)\n",
        "      ]),\n",
        "      axis=1\n",
        "  )\n",
        "\n",
        "  dfp.pop('vertex_longitude_1')\n",
        "  dfp.pop('vertex_longitude_2')\n",
        "  dfp.pop('vertex_longitude_3')\n",
        "  dfp.pop('vertex_longitude_4')\n",
        "  dfp.pop('vertex_latitude_1')\n",
        "  dfp.pop('vertex_latitude_2')\n",
        "  dfp.pop('vertex_latitude_3')\n",
        "  dfp.pop('vertex_latitude_4')\n",
        "  dfp.pop('longitude')\n",
        "  dfp.pop('latitude')\n",
        "  \n",
        "  dfp['time'] = dfp['time'].astype(str)\n",
        "  dfp['file_id'] = filename\n",
        "\n",
        "  gdf = gpd.GeoDataFrame(dfp, geometry='geometry', crs=\"EPSG:4326\")\n",
        "  gdf['area'] = gdf['geometry'].area / 10**6\n",
        "  gdf['id'] = range(1, len(gdf) + 1)\n",
        "\n",
        "  file_shp = gd_folder + 'scripts/shp-v3/' + filename[:-4] +'-v1.shp'\n",
        "\n",
        "  gdf.to_file(file_shp)\n",
        "\n",
        "  os.system('gsutil cp {0} {1}shps/{2}-v1.shp'.format(file_shp, gcs_folder, filename[:-4]))\n",
        "  os.system('gsutil cp {0} {1}shps/{2}-v1.dbf'.format(file_shp, gcs_folder, filename[:-4]))\n",
        "  os.system('gsutil cp {0} {1}shps/{2}-v1.shx'.format(file_shp, gcs_folder, filename[:-4]))\n",
        "  os.system('gsutil cp {0} {1}shps/{2}-v1.prj'.format(file_shp, gcs_folder, filename[:-4]))\n",
        "\n",
        "  # os.system('gsutil cp {0} {1}nc4s/{2}'.format(gd_folder + filename, gcs_folder, filename))\n",
        "\n",
        "  \n",
        "  asset_id = 'projects/mapbiomas-workspace/AR/XCO2-VECTORS/'\n",
        "  # os.system('earthengine upload table --asset_id={0} {1}'.format(asset_id + filename[:-4] + '-v1', gcs_folder + 'shps/' + filename[:-4] + '-v1.shp'))\n",
        "\n",
        "  print('nc4 file: ',filename,' - ',nc4s_files.index(filename) + 1, ' de ', len(nc4s_files))\n",
        "\n",
        "  # cada arquivo demora um pouco mais de 3 minutos para concluir o loop\n",
        "\n",
        "# 23 arquivos levaram um pouco menos de 1 hora e meia\n",
        "print('end loop')"
      ]
    },
    {
      "cell_type": "code",
      "source": [
        ""
      ],
      "metadata": {
        "id": "M9EBnrRSDeUm"
      },
      "execution_count": null,
      "outputs": []
    }
  ],
  "metadata": {
    "colab": {
      "collapsed_sections": [],
      "name": "dataset-explorer-v1.ipynb",
      "provenance": []
    },
    "kernelspec": {
      "display_name": "Python 3",
      "name": "python3"
    },
    "language_info": {
      "codemirror_mode": {
        "name": "ipython",
        "version": 3
      },
      "file_extension": ".py",
      "mimetype": "text/x-python",
      "name": "python",
      "nbconvert_exporter": "python",
      "pygments_lexer": "ipython3",
      "version": "3.8.10"
    }
  },
  "nbformat": 4,
  "nbformat_minor": 0
}