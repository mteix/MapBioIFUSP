{
 "cells": [
  {
   "cell_type": "markdown",
   "metadata": {},
   "source": [
    "# Converter grib files to Geotiff\n",
    "\n",
    "##### Author  : Marcio Teixeira\n",
    "##### Rev     : PA1 (12-Apr-2022)"
   ]
  },
  {
   "cell_type": "markdown",
   "metadata": {},
   "source": [
    "### ERA5"
   ]
  },
  {
   "cell_type": "code",
   "execution_count": 3,
   "metadata": {},
   "outputs": [
    {
     "name": "stdout",
     "output_type": "stream",
     "text": [
      "Files and directories in ' /home/mapbiomasar/MarcoFranco/ERA5/Wind_Comp_U_V ' :\n",
      "['2013.grib', '1994.grib', '2014.grib', '1989.grib', '2021.grib', '2001.grib', '2015.grib', '1999.grib', '2000.grib', '2012.grib', '1986.grib', '1997.grib', '2016.grib', '1988.grib', 'Read_Me.txt', '1990.grib', '1987.grib', '2017.grib', '1991.grib', '2006.grib', '1995.grib', '1979.grib', '1981.grib', '2002.grib', '2008.grib', '1983.grib', '1984.grib', '2018.grib', '2004.grib', '2007.grib', '1996.grib', '1998.grib', '2020.grib', '1985.grib', '1980.grib', '2011.grib', '2019.grib', '2010.grib', '1993.grib', '2003.grib', '1992.grib', '1982.grib', '2009.grib', '2005.grib']\n"
     ]
    }
   ],
   "source": [
    "# import OS module\n",
    "import os\n",
    "\n",
    "# Get the list of all files and directories\n",
    "path = \"/home/mapbiomasar/MarcoFranco/ERA5/Wind_Comp_U_V\"\n",
    "dir_list = os.listdir(path)\n",
    "\n",
    "print(\"Files and directories in '\", path, \"' :\")\n",
    "print(dir_list)\n"
   ]
  },
  {
   "cell_type": "code",
   "execution_count": 6,
   "metadata": {},
   "outputs": [
    {
     "name": "stdout",
     "output_type": "stream",
     "text": [
      "Warning: Inside GRIB2Inventory, Message # 70081\n",
      "ERROR: Ran out of file reading SECT0\n"
     ]
    },
    {
     "name": "stderr",
     "output_type": "stream",
     "text": [
      "ERROR 1: Attempt to create 217x290x70080 TIFF file, but bands must be lesser or equal to 65535.\n"
     ]
    }
   ],
   "source": [
    "from osgeo import gdal, gdalconst\n",
    "\n",
    "#Open existing dataset\n",
    "src_ds = gdal.Open('/home/mapbiomasar/MarcoFranco/ERA5/Wind_Comp_U_V/2013.grib')\n",
    "\n",
    "#Open output format driver, see gdal_translate --formats for list\n",
    "format = \"GTiff\"\n",
    "driver = gdal.GetDriverByName( format )\n",
    "\n",
    "#Output to new format\n",
    "dst_ds = driver.CreateCopy('2013ERA5.tiff', src_ds, 0 )\n",
    "\n",
    "#Properly close the datasets to flush to disk\n",
    "dst_ds = None\n",
    "src_ds = None\n"
   ]
  },
  {
   "cell_type": "markdown",
   "metadata": {},
   "source": [
    "This is the error of these tiff files\n",
    "\n",
    "-------\n",
    "Warning: Inside GRIB2Inventory, Message # 70081\n",
    "ERROR: Ran out of file reading SECT0\n",
    "ERROR 1: Attempt to create 217x290x70080 TIFF file, but bands must be lesser or equal to 65535.\n",
    "-------"
   ]
  },
  {
   "cell_type": "markdown",
   "metadata": {},
   "source": [
    "### MERGE-CPTEC\n",
    "\n",
    "\n",
    "It is working! But we will try to make a more recurrent function to process data\n"
   ]
  },
  {
   "cell_type": "code",
   "execution_count": null,
   "metadata": {},
   "outputs": [],
   "source": [
    "# this is a sandbox\n",
    "\n",
    "from osgeo import gdal, gdalconst\n",
    "\n",
    "path = \"/home/mapbiomasar/MarcoFranco/MERGE_CPTEC/2000/09\"\n",
    "\n",
    "dir_list = os.listdir(path)\n",
    "# print(dir_list.sort)\n",
    "for item in dir_list:\n",
    "    file_name = item\n",
    "    #Open existing dataset\n",
    "    src_ds = gdal.Open(path+'/'+file_name)\n",
    "\n",
    "    #Open output format driver, see gdal_translate --formats for list\n",
    "    format = \"GTiff\"\n",
    "    driver = gdal.GetDriverByName( format )\n",
    "\n",
    "    #Output to new format\n",
    "    dst_ds = driver.CreateCopy(file_name[:-6]+'.tiff', src_ds, 0 )\n",
    "\n",
    "    #Properly close the datasets to flush to disk\n",
    "    dst_ds = None\n",
    "    src_ds = None\n",
    "\n",
    "    print('File', file_name, 'processed!')\n",
    "        \n"
   ]
  },
  {
   "cell_type": "markdown",
   "metadata": {},
   "source": [
    "### Function that parses the whole directory\n"
   ]
  },
  {
   "cell_type": "code",
   "execution_count": 10,
   "metadata": {},
   "outputs": [
    {
     "name": "stdout",
     "output_type": "stream",
     "text": [
      "Processed  2022 data\n",
      "Processed  2021 data\n",
      "Processed  2008 data\n",
      "Processed  2011 data\n",
      "Processed  2001 data\n",
      "Processed  2018 data\n",
      "Processed  2007 data\n",
      "Processed  2003 data\n",
      "Processed  2004 data\n",
      "Processed  2005 data\n",
      "Processed  2012 data\n",
      "Processed  2016 data\n",
      "Processed  2009 data\n",
      "Processed  2015 data\n",
      "Processed  2017 data\n",
      "Processed  2010 data\n",
      "Processed  2013 data\n",
      "Processed  2006 data\n",
      "Processed  2000 data\n",
      "Processed  2019 data\n",
      "Processed  2020 data\n",
      "Processed  2014 data\n",
      "Processed  2002 data\n"
     ]
    }
   ],
   "source": [
    "from osgeo import gdal, gdalconst\n",
    "\n",
    "\n",
    "# converts from grib2 to tiff\n",
    "# TODO: check if converted files are OK\n",
    "\n",
    "def CptectoTiff(path_to_file,file_):\n",
    "    src_ds = gdal.Open(path_to_file+file_)\n",
    "\n",
    "    #Open output format driver, see gdal_translate --formats for list\n",
    "    format = \"GTiff\"\n",
    "    driver = gdal.GetDriverByName( format )\n",
    "\n",
    "    #Output to new format\n",
    "    dst_ds = driver.CreateCopy(path_to_file + file_[:-6]+'.tiff', src_ds, 0 )\n",
    "\n",
    "    #Properly close the datasets to flush to disk\n",
    "    dst_ds = None\n",
    "    src_ds = None\n",
    "\n",
    "# MAIN\n",
    "# TODO: Make function and more modular as per Python style\n",
    "\n",
    "\n",
    "path = \"/home/mapbiomasar/MarcoFranco/MERGE_CPTEC/\"\n",
    "dir_l1 = os.listdir(path)\n",
    "# find the files recurrently\n",
    "for yr in dir_l1:\n",
    "    if yr.isnumeric():\n",
    "        print(\"Processed \", yr, \"data\")\n",
    "        year =  path + yr\n",
    "        dir_l2 = os.listdir(year)\n",
    "        for mon in dir_l2:\n",
    "            if mon.isnumeric():\n",
    "                path_to_file =  year +'/'+ mon + '/'\n",
    "                dir_l3 = os.listdir(path_to_file)\n",
    "                for file_ in dir_l3:\n",
    "                    # path_to_file is the full path\n",
    "                    # file_ is the *actual* filename\n",
    "                    CptectoTiff(path_to_file,file_)\n",
    "\n"
   ]
  }
 ],
 "metadata": {
  "interpreter": {
   "hash": "916dbcbb3f70747c44a77c7bcd40155683ae19c65e1c03b4aa3499c5328201f1"
  },
  "kernelspec": {
   "display_name": "Python 3.8.10 64-bit",
   "language": "python",
   "name": "python3"
  },
  "language_info": {
   "codemirror_mode": {
    "name": "ipython",
    "version": 3
   },
   "file_extension": ".py",
   "mimetype": "text/x-python",
   "name": "python",
   "nbconvert_exporter": "python",
   "pygments_lexer": "ipython3",
   "version": "3.8.10"
  },
  "orig_nbformat": 4
 },
 "nbformat": 4,
 "nbformat_minor": 2
}
