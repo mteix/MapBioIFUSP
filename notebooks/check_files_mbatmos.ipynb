{
 "cells": [
  {
   "cell_type": "markdown",
   "metadata": {},
   "source": [
    "Abrindo os arquivos processados pelo script para vetrificar os erros reportados por Wallace"
   ]
  },
  {
   "cell_type": "code",
   "execution_count": 7,
   "metadata": {},
   "outputs": [],
   "source": [
    "import pandas as pd\n",
    "\n",
    "df = pd.read_csv('/home/mapbiomasar/MarcoFranco/OMI_Aura/Data_L3/aerosol_data_2019.csv')\n"
   ]
  },
  {
   "cell_type": "code",
   "execution_count": 11,
   "metadata": {},
   "outputs": [
    {
     "name": "stdout",
     "output_type": "stream",
     "text": [
      "15.5 -57.5 -36.5 -85.5\n"
     ]
    }
   ],
   "source": [
    "print( df['lat'].max(),df['lat'].min(), df['lon'].max(), df['lon'].min())"
   ]
  },
  {
   "cell_type": "code",
   "execution_count": 6,
   "metadata": {},
   "outputs": [
    {
     "name": "stdout",
     "output_type": "stream",
     "text": [
      "Unnamed: 0                         103818\n",
      "time                  2021-12-15 00:00:00\n",
      "lat                                  15.5\n",
      "lon                                 -36.0\n",
      "total_ozone_column                  392.0\n",
      "dtype: object Unnamed: 0                          11255\n",
      "time                  1970-04-15 00:00:00\n",
      "lat                                 -57.5\n",
      "lon                                 -85.5\n",
      "total_ozone_column                  187.0\n",
      "dtype: object\n"
     ]
    },
    {
     "data": {
      "text/plain": [
       "272.5035090702948"
      ]
     },
     "execution_count": 6,
     "metadata": {},
     "output_type": "execute_result"
    }
   ],
   "source": [
    "print(df.max(), df.min())\n",
    "\n",
    "tmp = df[(df.time > '1996-01-01') & (df.time < '1997-01-01')]\n",
    "\n",
    "tmp.total_ozone_column.mean()"
   ]
  }
 ],
 "metadata": {
  "kernelspec": {
   "display_name": "Python 3.9.13 ('geoproc')",
   "language": "python",
   "name": "python3"
  },
  "language_info": {
   "codemirror_mode": {
    "name": "ipython",
    "version": 3
   },
   "file_extension": ".py",
   "mimetype": "text/x-python",
   "name": "python",
   "nbconvert_exporter": "python",
   "pygments_lexer": "ipython3",
   "version": "3.9.13"
  },
  "orig_nbformat": 4,
  "vscode": {
   "interpreter": {
    "hash": "85d1c656cb01c6deceab63fc5a9395e22e95e6a557b568e296407028b767fccd"
   }
  }
 },
 "nbformat": 4,
 "nbformat_minor": 2
}
