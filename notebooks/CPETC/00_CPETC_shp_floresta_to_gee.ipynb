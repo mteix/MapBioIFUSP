{
  "cells": [
    {
      "cell_type": "code",
      "execution_count": null,
      "metadata": {
        "colab": {
          "base_uri": "https://localhost:8080/"
        },
        "id": "357PCd7uJXao",
        "outputId": "6912f3e9-a2af-4c75-e1b9-2117b8987b25"
      },
      "outputs": [
        {
          "output_type": "stream",
          "name": "stdout",
          "text": [
            "Updated property [core/project].\n"
          ]
        }
      ],
      "source": [
        "# CONECTANDO AO GOOGLE CLOUD STORAGE (GCS)\n",
        "PROJECT = 'mapbiomas'\n",
        "\n",
        "from google.colab import auth\n",
        "from google.cloud import storage\n",
        "auth.authenticate_user()\n",
        "\n",
        "!gcloud config set project {PROJECT}"
      ]
    },
    {
      "cell_type": "code",
      "execution_count": null,
      "metadata": {
        "id": "TT4Z6XP4J2_F"
      },
      "outputs": [],
      "source": [
        "# CONECTANDO AO GOOGLE EARTH ENGINE (GEE)\n",
        "import ee\n",
        "ee.Authenticate()\n",
        "ee.Initialize()"
      ]
    },
    {
      "cell_type": "code",
      "source": [
        "gcs_folder = 'gs://shared-development-storage/AUXILIARES/MAPBIOMAS-AR/'\n",
        "url_gcs_folder = 'https://storage.cloud.google.com/shared-development-storage/AUXILIARES/MAPBIOMAS-AR/'"
      ],
      "metadata": {
        "id": "mH8EVprPHwUt"
      },
      "execution_count": null,
      "outputs": []
    },
    {
      "cell_type": "code",
      "execution_count": null,
      "metadata": {
        "id": "zKfqLN3TKEJO"
      },
      "outputs": [],
      "source": [
        "import os\n",
        "import sys\n",
        "\n",
        "from glob import glob\n",
        "import os\n",
        "from bs4 import BeautifulSoup\n",
        "import requests\n",
        "from pathlib import Path"
      ]
    },
    {
      "cell_type": "code",
      "execution_count": null,
      "metadata": {
        "id": "XfQFSYEbKTVr",
        "colab": {
          "base_uri": "https://localhost:8080/"
        },
        "outputId": "0f107535-a3ae-4ac7-cbe6-66d4586deb8f"
      },
      "outputs": [
        {
          "output_type": "stream",
          "name": "stdout",
          "text": [
            "['http://floresta.if.usp.br/ftp/public/Temp/MapbiomasAR/CPTEC/2001_01.tiff', 'http://floresta.if.usp.br/ftp/public/Temp/MapbiomasAR/CPTEC/2001_02.tiff', 'http://floresta.if.usp.br/ftp/public/Temp/MapbiomasAR/CPTEC/2001_04.tiff', 'http://floresta.if.usp.br/ftp/public/Temp/MapbiomasAR/CPTEC/2001_05.tiff', 'http://floresta.if.usp.br/ftp/public/Temp/MapbiomasAR/CPTEC/2001_06.tiff', 'http://floresta.if.usp.br/ftp/public/Temp/MapbiomasAR/CPTEC/2001_07.tiff', 'http://floresta.if.usp.br/ftp/public/Temp/MapbiomasAR/CPTEC/2001_08.tiff', 'http://floresta.if.usp.br/ftp/public/Temp/MapbiomasAR/CPTEC/2001_09.tiff', 'http://floresta.if.usp.br/ftp/public/Temp/MapbiomasAR/CPTEC/2001_10.tiff', 'http://floresta.if.usp.br/ftp/public/Temp/MapbiomasAR/CPTEC/2001_11.tiff']\n"
          ]
        }
      ],
      "source": [
        "url_floresta = 'http://floresta.if.usp.br/ftp/public/Temp/MapbiomasAR/CPTEC'\n",
        "\n",
        "def listFD(url):\n",
        "    page = requests.get(url).text\n",
        "    soup = BeautifulSoup(page, 'html.parser')\n",
        "    return [url + '/' + node.get('href') for node in soup.find_all('a') if node.get('href')]\n",
        "\n",
        "obj_list = []\n",
        "\n",
        "urls = listFD(url_floresta)\n",
        "urls = list(filter(lambda f: f.find(\"?C=\") <= 0, urls))\n",
        "urls = urls[1:]\n",
        "\n",
        "print(urls)"
      ]
    },
    {
      "cell_type": "code",
      "execution_count": null,
      "metadata": {
        "colab": {
          "base_uri": "https://localhost:8080/"
        },
        "id": "U28DxAI2Mn86",
        "outputId": "31fd9672-caf1-41c9-861a-fa5789419a17"
      },
      "outputs": [
        {
          "output_type": "stream",
          "name": "stdout",
          "text": [
            "INFO: 1/10  --> earthengine upload image --asset_id=projects/mapbiomas-workspace/AR/CPETC/2001_01 gs://shared-development-storage/AUXILIARES/MAPBIOMAS-AR/2001_01.tiff\n",
            "INFO: 2/10  --> earthengine upload image --asset_id=projects/mapbiomas-workspace/AR/CPETC/2001_02 gs://shared-development-storage/AUXILIARES/MAPBIOMAS-AR/2001_02.tiff\n",
            "INFO: 3/10  --> earthengine upload image --asset_id=projects/mapbiomas-workspace/AR/CPETC/2001_04 gs://shared-development-storage/AUXILIARES/MAPBIOMAS-AR/2001_04.tiff\n",
            "INFO: 4/10  --> earthengine upload image --asset_id=projects/mapbiomas-workspace/AR/CPETC/2001_05 gs://shared-development-storage/AUXILIARES/MAPBIOMAS-AR/2001_05.tiff\n",
            "INFO: 5/10  --> earthengine upload image --asset_id=projects/mapbiomas-workspace/AR/CPETC/2001_06 gs://shared-development-storage/AUXILIARES/MAPBIOMAS-AR/2001_06.tiff\n",
            "INFO: 6/10  --> earthengine upload image --asset_id=projects/mapbiomas-workspace/AR/CPETC/2001_07 gs://shared-development-storage/AUXILIARES/MAPBIOMAS-AR/2001_07.tiff\n",
            "INFO: 7/10  --> earthengine upload image --asset_id=projects/mapbiomas-workspace/AR/CPETC/2001_08 gs://shared-development-storage/AUXILIARES/MAPBIOMAS-AR/2001_08.tiff\n",
            "INFO: 8/10  --> earthengine upload image --asset_id=projects/mapbiomas-workspace/AR/CPETC/2001_09 gs://shared-development-storage/AUXILIARES/MAPBIOMAS-AR/2001_09.tiff\n",
            "INFO: 9/10  --> earthengine upload image --asset_id=projects/mapbiomas-workspace/AR/CPETC/2001_10 gs://shared-development-storage/AUXILIARES/MAPBIOMAS-AR/2001_10.tiff\n",
            "INFO: 10/10  --> earthengine upload image --asset_id=projects/mapbiomas-workspace/AR/CPETC/2001_11 gs://shared-development-storage/AUXILIARES/MAPBIOMAS-AR/2001_11.tiff\n"
          ]
        }
      ],
      "source": [
        "\n",
        "for url in urls:\n",
        "  data = url.split('/')[8]\n",
        "\n",
        "  r = requests.get(url, allow_redirects=True)\n",
        "  input_address = '/content/'+data\n",
        "\n",
        "  open(input_address, 'wb').write(r.content)\n",
        "\n",
        "  folder_gcs = 'gs://shared-development-storage/AUXILIARES/MAPBIOMAS-AR'\n",
        "  cmd_gcs = 'gsutil cp {0} {1}/{2}'.format(input_address, folder_gcs, data)\n",
        "  os.system(cmd_gcs)\n",
        "  # print(cmd_gcs)\n",
        "  \n",
        "  asset_id = 'projects/mapbiomas-workspace/AR/CPETC'\n",
        "  cmd = 'earthengine upload image --asset_id={0}/{1} {2}/{1}.tiff'.format(asset_id,data[:-5],folder_gcs)\n",
        "  os.system(cmd)\n",
        "  # print(cmd)\n",
        "  \n",
        "  print('INFO: {0}/{1}  --> {2}'.format((urls.index(url) + 1),len(urls), cmd))"
      ]
    },
    {
      "cell_type": "code",
      "execution_count": null,
      "metadata": {
        "id": "jlhdU3ZoOB-N"
      },
      "outputs": [],
      "source": [
        ""
      ]
    }
  ],
  "metadata": {
    "colab": {
      "name": "GT_AR-CPETC_shp-floresta-to-gee-202203.ipynb",
      "provenance": [],
      "collapsed_sections": []
    },
    "kernelspec": {
      "display_name": "Python 3",
      "name": "python3"
    },
    "language_info": {
      "name": "python"
    }
  },
  "nbformat": 4,
  "nbformat_minor": 0
}
